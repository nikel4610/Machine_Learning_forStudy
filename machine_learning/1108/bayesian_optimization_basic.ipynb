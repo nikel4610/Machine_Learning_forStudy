{
 "cells": [
  {
   "cell_type": "code",
   "execution_count": null,
   "metadata": {},
   "outputs": [],
   "source": [
    "# https://github.com/fmfn/BayesianOptimization \n",
    "# conda install -c conda-forge bayesian-optimization로 설치"
   ]
  },
  {
   "cell_type": "code",
   "execution_count": 2,
   "metadata": {},
   "outputs": [
    {
     "name": "stdout",
     "output_type": "stream",
     "text": [
      "Requirement already satisfied: bayesian-optimization in c:\\users\\user\\anaconda\\lib\\site-packages (1.3.1)\n",
      "Requirement already satisfied: numpy>=1.9.0 in c:\\users\\user\\anaconda\\lib\\site-packages (from bayesian-optimization) (1.21.5)\n",
      "Requirement already satisfied: scikit-learn>=0.18.0 in c:\\users\\user\\anaconda\\lib\\site-packages (from bayesian-optimization) (1.1.3)\n",
      "Requirement already satisfied: scipy>=1.0.0 in c:\\users\\user\\anaconda\\lib\\site-packages (from bayesian-optimization) (1.9.1)\n",
      "Requirement already satisfied: threadpoolctl>=2.0.0 in c:\\users\\user\\anaconda\\lib\\site-packages (from scikit-learn>=0.18.0->bayesian-optimization) (2.2.0)\n",
      "Requirement already satisfied: joblib>=1.0.0 in c:\\users\\user\\anaconda\\lib\\site-packages (from scikit-learn>=0.18.0->bayesian-optimization) (1.1.0)\n",
      "Note: you may need to restart the kernel to use updated packages.\n"
     ]
    }
   ],
   "source": [
    "pip install bayesian-optimization"
   ]
  },
  {
   "cell_type": "markdown",
   "metadata": {},
   "source": [
    "##### 범위를 가지는 x, y 데이터를 기반으로 특정 값을 반환하는 함수  생성"
   ]
  },
  {
   "cell_type": "code",
   "execution_count": 3,
   "metadata": {},
   "outputs": [],
   "source": [
    "# 범위를 가지는 x, y 데이터를 기반으로 특정 값을 반환하는 함수.\n",
    "# Bayesian optimization 은 넓은 범위의 입력값들을 이 함수에 입력했을 때 어떤 입력값이 이 함수를 최대화 하는지 추론.\n",
    "def black_box_function(x, y):\n",
    "\n",
    "    return -x ** 2 - (y - 1) ** 2 + 1"
   ]
  },
  {
   "cell_type": "markdown",
   "metadata": {},
   "source": [
    "##### 입력 파라미터들의 범위(공간) 설정 "
   ]
  },
  {
   "cell_type": "code",
   "execution_count": 4,
   "metadata": {},
   "outputs": [],
   "source": [
    "# 입력 파라미터들의 범위(공간)\n",
    "pbounds = {'x': (2, 4), 'y': (-3, 3)}"
   ]
  },
  {
   "cell_type": "markdown",
   "metadata": {},
   "source": [
    "##### BayesianOptimization 객체 생성하고 함수 반환값을 최대화 할 수 있는 입력 파라미터 값과 반환값을 iteration하면서 최적 검색"
   ]
  },
  {
   "cell_type": "code",
   "execution_count": 5,
   "metadata": {},
   "outputs": [
    {
     "name": "stdout",
     "output_type": "stream",
     "text": [
      "|   iter    |  target   |     x     |     y     |\n",
      "-------------------------------------------------\n",
      "| \u001b[0m1        \u001b[0m | \u001b[0m-7.135   \u001b[0m | \u001b[0m2.834    \u001b[0m | \u001b[0m1.322    \u001b[0m |\n",
      "| \u001b[0m2        \u001b[0m | \u001b[0m-7.78    \u001b[0m | \u001b[0m2.0      \u001b[0m | \u001b[0m-1.186   \u001b[0m |\n",
      "| \u001b[95m3        \u001b[0m | \u001b[95m-7.11    \u001b[0m | \u001b[95m2.218    \u001b[0m | \u001b[95m-0.7867  \u001b[0m |\n",
      "| \u001b[0m4        \u001b[0m | \u001b[0m-12.4    \u001b[0m | \u001b[0m3.66     \u001b[0m | \u001b[0m0.9608   \u001b[0m |\n",
      "| \u001b[95m5        \u001b[0m | \u001b[95m-6.999   \u001b[0m | \u001b[95m2.23     \u001b[0m | \u001b[95m-0.7392  \u001b[0m |\n",
      "| \u001b[95m6        \u001b[0m | \u001b[95m-3.047   \u001b[0m | \u001b[95m2.0      \u001b[0m | \u001b[95m0.783    \u001b[0m |\n",
      "| \u001b[0m7        \u001b[0m | \u001b[0m-4.166   \u001b[0m | \u001b[0m2.0      \u001b[0m | \u001b[0m2.08     \u001b[0m |\n",
      "=================================================\n"
     ]
    }
   ],
   "source": [
    "from bayes_opt import BayesianOptimization\n",
    "\n",
    "# 최적화할 함수와, 입력 파라미터의 범위를 입력 받아서 BayesianOptimization 객체 생성 \n",
    "optimizer = BayesianOptimization(\n",
    "    f=black_box_function,\n",
    "    pbounds=pbounds,\n",
    "    random_state=1\n",
    ")\n",
    "\n",
    "# 함수 반환값을 최대화 할 수 있는 입력 파라미터 값과 반환값을 iteration하면서 최적 검색 \n",
    "optimizer.maximize(\n",
    "    init_points=2,\n",
    "    n_iter=5,\n",
    ")"
   ]
  },
  {
   "cell_type": "markdown",
   "metadata": {},
   "source": [
    "##### 순차적으로 반환값의 최대값을 찾는 로직 비교 "
   ]
  },
  {
   "cell_type": "code",
   "execution_count": 6,
   "metadata": {},
   "outputs": [
    {
     "name": "stdout",
     "output_type": "stream",
     "text": [
      "iteration count: 1260 max result: -3.0 x value: 2.0 y value: 1.0000000000000036\n"
     ]
    }
   ],
   "source": [
    "import numpy as np\n",
    "\n",
    "result = -9999\n",
    "x_val = -9999\n",
    "y_val = -9999\n",
    "iter_count = 0\n",
    "\n",
    "for x in np.arange(2, 4.1, 0.1):\n",
    "    for y in np.arange(-3, 3, 0.1):\n",
    "        current_result = black_box_function(x, y)\n",
    "        iter_count += 1\n",
    "        if current_result > result:\n",
    "            result = current_result\n",
    "            x_val = x\n",
    "            y_val = y\n",
    "\n",
    "print('iteration count:', iter_count, 'max result:', result, 'x value:', x_val, 'y value:', y_val)"
   ]
  },
  {
   "cell_type": "markdown",
   "metadata": {},
   "source": [
    "##### 입력 파라미터들의 범위(공간)을 넓혀서 다시 수행 비교. "
   ]
  },
  {
   "cell_type": "code",
   "execution_count": 7,
   "metadata": {},
   "outputs": [
    {
     "name": "stdout",
     "output_type": "stream",
     "text": [
      "|   iter    |  target   |     x     |     y     |\n",
      "-------------------------------------------------\n",
      "| \u001b[0m1        \u001b[0m | \u001b[0m-708.4   \u001b[0m | \u001b[0m17.85    \u001b[0m | \u001b[0m20.77    \u001b[0m |\n",
      "| \u001b[95m2        \u001b[0m | \u001b[95m-38.74   \u001b[0m | \u001b[95m2.004    \u001b[0m | \u001b[95m6.977    \u001b[0m |\n",
      "| \u001b[0m3        \u001b[0m | \u001b[0m-52.3    \u001b[0m | \u001b[0m3.172    \u001b[0m | \u001b[0m7.576    \u001b[0m |\n",
      "| \u001b[0m4        \u001b[0m | \u001b[0m-117.8   \u001b[0m | \u001b[0m10.14    \u001b[0m | \u001b[0m-2.995   \u001b[0m |\n",
      "| \u001b[0m5        \u001b[0m | \u001b[0m-1.615e+0\u001b[0m | \u001b[0m40.0     \u001b[0m | \u001b[0m-3.0     \u001b[0m |\n",
      "| \u001b[0m6        \u001b[0m | \u001b[0m-844.0   \u001b[0m | \u001b[0m2.0      \u001b[0m | \u001b[0m30.0     \u001b[0m |\n",
      "| \u001b[95m7        \u001b[0m | \u001b[95m-19.0    \u001b[0m | \u001b[95m2.0      \u001b[0m | \u001b[95m-3.0     \u001b[0m |\n",
      "| \u001b[0m8        \u001b[0m | \u001b[0m-20.04   \u001b[0m | \u001b[0m4.501    \u001b[0m | \u001b[0m1.881    \u001b[0m |\n",
      "| \u001b[95m9        \u001b[0m | \u001b[95m-3.086   \u001b[0m | \u001b[95m2.0      \u001b[0m | \u001b[95m1.294    \u001b[0m |\n",
      "| \u001b[0m10       \u001b[0m | \u001b[0m-7.352   \u001b[0m | \u001b[0m2.0      \u001b[0m | \u001b[0m3.086    \u001b[0m |\n",
      "| \u001b[0m11       \u001b[0m | \u001b[0m-3.836   \u001b[0m | \u001b[0m2.0      \u001b[0m | \u001b[0m0.08594  \u001b[0m |\n",
      "| \u001b[95m12       \u001b[0m | \u001b[95m-3.011   \u001b[0m | \u001b[95m2.0      \u001b[0m | \u001b[95m1.103    \u001b[0m |\n",
      "=================================================\n"
     ]
    }
   ],
   "source": [
    "# 입력 파라미터들의 범위(공간)\n",
    "pbounds = {'x': (2, 40), 'y': (-3, 30)}\n",
    "\n",
    "optimizer = BayesianOptimization(\n",
    "    f=black_box_function,\n",
    "    pbounds=pbounds,\n",
    "    random_state=1,\n",
    ")\n",
    "\n",
    "optimizer.maximize(\n",
    "    init_points=2,\n",
    "    n_iter=10,\n",
    ")"
   ]
  },
  {
   "cell_type": "code",
   "execution_count": 8,
   "metadata": {},
   "outputs": [
    {
     "name": "stdout",
     "output_type": "stream",
     "text": [
      "iteration count: 125730 max result: -3.0 x value: 2.0 y value: 1.0000000000000036\n"
     ]
    }
   ],
   "source": [
    "import numpy as np\n",
    "\n",
    "result = -9999\n",
    "x_val = -9999\n",
    "y_val = -9999\n",
    "iter_count = 0\n",
    "for x in np.arange(2, 40.1, 0.1):\n",
    "    for y in np.arange(-3, 30, 0.1):\n",
    "        current_result = black_box_function(x, y)\n",
    "        iter_count += 1\n",
    "        if current_result > result:\n",
    "            result = current_result\n",
    "            x_val = x\n",
    "            y_val = y\n",
    "\n",
    "print('iteration count:', iter_count, 'max result:', result, 'x value:', x_val, 'y value:', y_val)"
   ]
  },
  {
   "cell_type": "code",
   "execution_count": null,
   "metadata": {},
   "outputs": [],
   "source": []
  }
 ],
 "metadata": {
  "kernelspec": {
   "display_name": "Python 3 (ipykernel)",
   "language": "python",
   "name": "python3"
  },
  "language_info": {
   "codemirror_mode": {
    "name": "ipython",
    "version": 3
   },
   "file_extension": ".py",
   "mimetype": "text/x-python",
   "name": "python",
   "nbconvert_exporter": "python",
   "pygments_lexer": "ipython3",
   "version": "3.9.13"
  }
 },
 "nbformat": 4,
 "nbformat_minor": 4
}
