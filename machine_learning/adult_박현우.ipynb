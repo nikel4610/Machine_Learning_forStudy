{
 "cells": [
  {
   "cell_type": "code",
   "execution_count": 2,
   "metadata": {},
   "outputs": [],
   "source": [
    "import numpy as np\n",
    "import pandas as pd\n",
    "import seaborn as sns"
   ]
  },
  {
   "cell_type": "markdown",
   "metadata": {},
   "source": [
    "### 데이터 살펴보기"
   ]
  },
  {
   "cell_type": "code",
   "execution_count": 63,
   "metadata": {},
   "outputs": [
    {
     "name": "stdout",
     "output_type": "stream",
     "text": [
      "   age          workclass  fnlwgt   education  ecudation_number  \\\n",
      "0   39          State-gov   77516   Bachelors                13   \n",
      "1   50   Self-emp-not-inc   83311   Bachelors                13   \n",
      "2   38            Private  215646     HS-grad                 9   \n",
      "\n",
      "        marital_status          occupation    relationship    race    sex  \\\n",
      "0        Never-married        Adm-clerical   Not-in-family   White   Male   \n",
      "1   Married-civ-spouse     Exec-managerial         Husband   White   Male   \n",
      "2             Divorced   Handlers-cleaners   Not-in-family   White   Male   \n",
      "\n",
      "   capital_gain  capital_loss  hours_per_week  native_country    wage  \n",
      "0          2174             0              40   United-States   <=50K  \n",
      "1             0             0              13   United-States   <=50K  \n",
      "2             0             0              40   United-States   <=50K  \n"
     ]
    }
   ],
   "source": [
    "adult_df = pd.read_csv('../adult.csv')\n",
    "print(adult_df.head(3))"
   ]
  },
  {
   "cell_type": "code",
   "execution_count": 4,
   "metadata": {},
   "outputs": [
    {
     "name": "stdout",
     "output_type": "stream",
     "text": [
      "<class 'pandas.core.frame.DataFrame'>\n",
      "RangeIndex: 32561 entries, 0 to 32560\n",
      "Data columns (total 15 columns):\n",
      " #   Column            Non-Null Count  Dtype \n",
      "---  ------            --------------  ----- \n",
      " 0   age               32561 non-null  int64 \n",
      " 1   workclass         32561 non-null  object\n",
      " 2   fnlwgt            32561 non-null  int64 \n",
      " 3   education         32561 non-null  object\n",
      " 4   ecudation_number  32561 non-null  int64 \n",
      " 5   marital_status    32561 non-null  object\n",
      " 6   occupation        32561 non-null  object\n",
      " 7   relationship      32561 non-null  object\n",
      " 8   race              32561 non-null  object\n",
      " 9   sex               32561 non-null  object\n",
      " 10  capital_gain      32561 non-null  int64 \n",
      " 11  capital_loss      32561 non-null  int64 \n",
      " 12  hours_per_week    32561 non-null  int64 \n",
      " 13  native_country    32561 non-null  object\n",
      " 14  wage              32561 non-null  object\n",
      "dtypes: int64(6), object(9)\n",
      "memory usage: 3.7+ MB\n",
      "None\n"
     ]
    }
   ],
   "source": [
    "print(adult_df.info())"
   ]
  },
  {
   "cell_type": "code",
   "execution_count": 5,
   "metadata": {},
   "outputs": [
    {
     "name": "stdout",
     "output_type": "stream",
     "text": [
      " Private             22696\n",
      " Self-emp-not-inc     2541\n",
      " Local-gov            2093\n",
      " ?                    1836\n",
      " State-gov            1298\n",
      " Self-emp-inc         1116\n",
      " Federal-gov           960\n",
      " Without-pay            14\n",
      " Never-worked            7\n",
      "Name: workclass, dtype: int64\n"
     ]
    }
   ],
   "source": [
    "print(adult_df['workclass'].value_counts())"
   ]
  },
  {
   "cell_type": "code",
   "execution_count": 6,
   "metadata": {},
   "outputs": [
    {
     "name": "stdout",
     "output_type": "stream",
     "text": [
      " Prof-specialty       4140\n",
      " Craft-repair         4099\n",
      " Exec-managerial      4066\n",
      " Adm-clerical         3770\n",
      " Sales                3650\n",
      " Other-service        3295\n",
      " Machine-op-inspct    2002\n",
      " ?                    1843\n",
      " Transport-moving     1597\n",
      " Handlers-cleaners    1370\n",
      " Farming-fishing       994\n",
      " Tech-support          928\n",
      " Protective-serv       649\n",
      " Priv-house-serv       149\n",
      " Armed-Forces            9\n",
      "Name: occupation, dtype: int64\n"
     ]
    }
   ],
   "source": [
    "print(adult_df['occupation'].value_counts())"
   ]
  },
  {
   "cell_type": "code",
   "execution_count": 7,
   "metadata": {},
   "outputs": [
    {
     "name": "stdout",
     "output_type": "stream",
     "text": [
      " United-States                 29170\n",
      " Mexico                          643\n",
      " ?                               583\n",
      " Philippines                     198\n",
      " Germany                         137\n",
      " Canada                          121\n",
      " Puerto-Rico                     114\n",
      " El-Salvador                     106\n",
      " India                           100\n",
      " Cuba                             95\n",
      " England                          90\n",
      " Jamaica                          81\n",
      " South                            80\n",
      " China                            75\n",
      " Italy                            73\n",
      " Dominican-Republic               70\n",
      " Vietnam                          67\n",
      " Guatemala                        64\n",
      " Japan                            62\n",
      " Poland                           60\n",
      " Columbia                         59\n",
      " Taiwan                           51\n",
      " Haiti                            44\n",
      " Iran                             43\n",
      " Portugal                         37\n",
      " Nicaragua                        34\n",
      " Peru                             31\n",
      " France                           29\n",
      " Greece                           29\n",
      " Ecuador                          28\n",
      " Ireland                          24\n",
      " Hong                             20\n",
      " Cambodia                         19\n",
      " Trinadad&Tobago                  19\n",
      " Laos                             18\n",
      " Thailand                         18\n",
      " Yugoslavia                       16\n",
      " Outlying-US(Guam-USVI-etc)       14\n",
      " Honduras                         13\n",
      " Hungary                          13\n",
      " Scotland                         12\n",
      " Holand-Netherlands                1\n",
      "Name: native_country, dtype: int64\n"
     ]
    }
   ],
   "source": [
    "print(adult_df['native_country'].value_counts())"
   ]
  },
  {
   "cell_type": "markdown",
   "metadata": {},
   "source": [
    "#### native_country의 값을 단순하게 바꿨음\n",
    "> 1. native_country의 값이 United-States인 경우 United-States = 0 으로 바꿈\n",
    "> 2. native_country의 값이 United-States가 아닌 경우 Not-United-States = 1 로 바꿈"
   ]
  },
  {
   "cell_type": "code",
   "execution_count": 8,
   "metadata": {},
   "outputs": [
    {
     "data": {
      "text/html": [
       "<div>\n",
       "<style scoped>\n",
       "    .dataframe tbody tr th:only-of-type {\n",
       "        vertical-align: middle;\n",
       "    }\n",
       "\n",
       "    .dataframe tbody tr th {\n",
       "        vertical-align: top;\n",
       "    }\n",
       "\n",
       "    .dataframe thead th {\n",
       "        text-align: right;\n",
       "    }\n",
       "</style>\n",
       "<table border=\"1\" class=\"dataframe\">\n",
       "  <thead>\n",
       "    <tr style=\"text-align: right;\">\n",
       "      <th></th>\n",
       "      <th>age</th>\n",
       "      <th>workclass</th>\n",
       "      <th>fnlwgt</th>\n",
       "      <th>education</th>\n",
       "      <th>ecudation_number</th>\n",
       "      <th>marital_status</th>\n",
       "      <th>occupation</th>\n",
       "      <th>relationship</th>\n",
       "      <th>race</th>\n",
       "      <th>sex</th>\n",
       "      <th>capital_gain</th>\n",
       "      <th>capital_loss</th>\n",
       "      <th>hours_per_week</th>\n",
       "      <th>native_country</th>\n",
       "      <th>wage</th>\n",
       "    </tr>\n",
       "  </thead>\n",
       "  <tbody>\n",
       "    <tr>\n",
       "      <th>0</th>\n",
       "      <td>39</td>\n",
       "      <td>State-gov</td>\n",
       "      <td>77516</td>\n",
       "      <td>Bachelors</td>\n",
       "      <td>13</td>\n",
       "      <td>Never-married</td>\n",
       "      <td>Adm-clerical</td>\n",
       "      <td>Not-in-family</td>\n",
       "      <td>White</td>\n",
       "      <td>Male</td>\n",
       "      <td>2174</td>\n",
       "      <td>0</td>\n",
       "      <td>40</td>\n",
       "      <td>0</td>\n",
       "      <td>&lt;=50K</td>\n",
       "    </tr>\n",
       "    <tr>\n",
       "      <th>1</th>\n",
       "      <td>50</td>\n",
       "      <td>Self-emp-not-inc</td>\n",
       "      <td>83311</td>\n",
       "      <td>Bachelors</td>\n",
       "      <td>13</td>\n",
       "      <td>Married-civ-spouse</td>\n",
       "      <td>Exec-managerial</td>\n",
       "      <td>Husband</td>\n",
       "      <td>White</td>\n",
       "      <td>Male</td>\n",
       "      <td>0</td>\n",
       "      <td>0</td>\n",
       "      <td>13</td>\n",
       "      <td>0</td>\n",
       "      <td>&lt;=50K</td>\n",
       "    </tr>\n",
       "    <tr>\n",
       "      <th>2</th>\n",
       "      <td>38</td>\n",
       "      <td>Private</td>\n",
       "      <td>215646</td>\n",
       "      <td>HS-grad</td>\n",
       "      <td>9</td>\n",
       "      <td>Divorced</td>\n",
       "      <td>Handlers-cleaners</td>\n",
       "      <td>Not-in-family</td>\n",
       "      <td>White</td>\n",
       "      <td>Male</td>\n",
       "      <td>0</td>\n",
       "      <td>0</td>\n",
       "      <td>40</td>\n",
       "      <td>0</td>\n",
       "      <td>&lt;=50K</td>\n",
       "    </tr>\n",
       "    <tr>\n",
       "      <th>3</th>\n",
       "      <td>53</td>\n",
       "      <td>Private</td>\n",
       "      <td>234721</td>\n",
       "      <td>11th</td>\n",
       "      <td>7</td>\n",
       "      <td>Married-civ-spouse</td>\n",
       "      <td>Handlers-cleaners</td>\n",
       "      <td>Husband</td>\n",
       "      <td>Black</td>\n",
       "      <td>Male</td>\n",
       "      <td>0</td>\n",
       "      <td>0</td>\n",
       "      <td>40</td>\n",
       "      <td>0</td>\n",
       "      <td>&lt;=50K</td>\n",
       "    </tr>\n",
       "    <tr>\n",
       "      <th>4</th>\n",
       "      <td>28</td>\n",
       "      <td>Private</td>\n",
       "      <td>338409</td>\n",
       "      <td>Bachelors</td>\n",
       "      <td>13</td>\n",
       "      <td>Married-civ-spouse</td>\n",
       "      <td>Prof-specialty</td>\n",
       "      <td>Wife</td>\n",
       "      <td>Black</td>\n",
       "      <td>Female</td>\n",
       "      <td>0</td>\n",
       "      <td>0</td>\n",
       "      <td>40</td>\n",
       "      <td>1</td>\n",
       "      <td>&lt;=50K</td>\n",
       "    </tr>\n",
       "  </tbody>\n",
       "</table>\n",
       "</div>"
      ],
      "text/plain": [
       "   age          workclass  fnlwgt   education  ecudation_number  \\\n",
       "0   39          State-gov   77516   Bachelors                13   \n",
       "1   50   Self-emp-not-inc   83311   Bachelors                13   \n",
       "2   38            Private  215646     HS-grad                 9   \n",
       "3   53            Private  234721        11th                 7   \n",
       "4   28            Private  338409   Bachelors                13   \n",
       "\n",
       "        marital_status          occupation    relationship    race      sex  \\\n",
       "0        Never-married        Adm-clerical   Not-in-family   White     Male   \n",
       "1   Married-civ-spouse     Exec-managerial         Husband   White     Male   \n",
       "2             Divorced   Handlers-cleaners   Not-in-family   White     Male   \n",
       "3   Married-civ-spouse   Handlers-cleaners         Husband   Black     Male   \n",
       "4   Married-civ-spouse      Prof-specialty            Wife   Black   Female   \n",
       "\n",
       "   capital_gain  capital_loss  hours_per_week  native_country    wage  \n",
       "0          2174             0              40               0   <=50K  \n",
       "1             0             0              13               0   <=50K  \n",
       "2             0             0              40               0   <=50K  \n",
       "3             0             0              40               0   <=50K  \n",
       "4             0             0              40               1   <=50K  "
      ]
     },
     "execution_count": 8,
     "metadata": {},
     "output_type": "execute_result"
    }
   ],
   "source": [
    "adult_df['native_country'] = adult_df['native_country'].apply(lambda x: 0 if x == ' United-States' else 1)\n",
    "adult_df.head()"
   ]
  },
  {
   "cell_type": "markdown",
   "metadata": {},
   "source": [
    "#### 데이터 중 '?' 값 제거"
   ]
  },
  {
   "cell_type": "code",
   "execution_count": 9,
   "metadata": {},
   "outputs": [],
   "source": [
    "adult_df = adult_df[adult_df['workclass'] != ' ?']\n",
    "adult_df = adult_df[adult_df['occupation'] != ' ?']\n",
    "adult_df = adult_df[adult_df['native_country'] != ' ?']"
   ]
  },
  {
   "cell_type": "markdown",
   "metadata": {},
   "source": [
    "#### wage의 값이 <=50K인 경우 0으로, >50K인 경우 1로 바꿈"
   ]
  },
  {
   "cell_type": "code",
   "execution_count": 10,
   "metadata": {},
   "outputs": [],
   "source": [
    "adult_df['wage'] = adult_df['wage'].apply(lambda x: 0 if x == ' <=50K' else 1)"
   ]
  },
  {
   "cell_type": "code",
   "execution_count": 11,
   "metadata": {},
   "outputs": [
    {
     "name": "stdout",
     "output_type": "stream",
     "text": [
      " White                 26301\n",
      " Black                  2909\n",
      " Asian-Pac-Islander      974\n",
      " Amer-Indian-Eskimo      286\n",
      " Other                   248\n",
      "Name: race, dtype: int64\n"
     ]
    }
   ],
   "source": [
    "print(adult_df['race'].value_counts())"
   ]
  },
  {
   "cell_type": "markdown",
   "metadata": {},
   "source": [
    "#### race의 값을 단순하게 바꿈\n",
    "> 1. race의 값이 White인 경우 White = 0 으로 바꿈\n",
    "> 2. race의 값이 Black인 경우 Black = 1 로 바꿈\n",
    "> 3. race의 값이 Asian-Pac-Islander인 경우 Asian-Pac-Islander = 2 로 바꿈\n",
    "> 4. race의 값이 Amer-Indian-Eskimo인 경우 Amer-Indian-Eskimo = 3 로 바꿈\n",
    "> 5. race의 값이 Other인 경우 Other = 4 로 바꿈"
   ]
  },
  {
   "cell_type": "code",
   "execution_count": 12,
   "metadata": {},
   "outputs": [
    {
     "data": {
      "text/html": [
       "<div>\n",
       "<style scoped>\n",
       "    .dataframe tbody tr th:only-of-type {\n",
       "        vertical-align: middle;\n",
       "    }\n",
       "\n",
       "    .dataframe tbody tr th {\n",
       "        vertical-align: top;\n",
       "    }\n",
       "\n",
       "    .dataframe thead th {\n",
       "        text-align: right;\n",
       "    }\n",
       "</style>\n",
       "<table border=\"1\" class=\"dataframe\">\n",
       "  <thead>\n",
       "    <tr style=\"text-align: right;\">\n",
       "      <th></th>\n",
       "      <th>age</th>\n",
       "      <th>workclass</th>\n",
       "      <th>fnlwgt</th>\n",
       "      <th>education</th>\n",
       "      <th>ecudation_number</th>\n",
       "      <th>marital_status</th>\n",
       "      <th>occupation</th>\n",
       "      <th>relationship</th>\n",
       "      <th>race</th>\n",
       "      <th>sex</th>\n",
       "      <th>capital_gain</th>\n",
       "      <th>capital_loss</th>\n",
       "      <th>hours_per_week</th>\n",
       "      <th>native_country</th>\n",
       "      <th>wage</th>\n",
       "    </tr>\n",
       "  </thead>\n",
       "  <tbody>\n",
       "    <tr>\n",
       "      <th>0</th>\n",
       "      <td>39</td>\n",
       "      <td>State-gov</td>\n",
       "      <td>77516</td>\n",
       "      <td>Bachelors</td>\n",
       "      <td>13</td>\n",
       "      <td>Never-married</td>\n",
       "      <td>Adm-clerical</td>\n",
       "      <td>Not-in-family</td>\n",
       "      <td>0</td>\n",
       "      <td>Male</td>\n",
       "      <td>2174</td>\n",
       "      <td>0</td>\n",
       "      <td>40</td>\n",
       "      <td>0</td>\n",
       "      <td>0</td>\n",
       "    </tr>\n",
       "    <tr>\n",
       "      <th>1</th>\n",
       "      <td>50</td>\n",
       "      <td>Self-emp-not-inc</td>\n",
       "      <td>83311</td>\n",
       "      <td>Bachelors</td>\n",
       "      <td>13</td>\n",
       "      <td>Married-civ-spouse</td>\n",
       "      <td>Exec-managerial</td>\n",
       "      <td>Husband</td>\n",
       "      <td>0</td>\n",
       "      <td>Male</td>\n",
       "      <td>0</td>\n",
       "      <td>0</td>\n",
       "      <td>13</td>\n",
       "      <td>0</td>\n",
       "      <td>0</td>\n",
       "    </tr>\n",
       "    <tr>\n",
       "      <th>2</th>\n",
       "      <td>38</td>\n",
       "      <td>Private</td>\n",
       "      <td>215646</td>\n",
       "      <td>HS-grad</td>\n",
       "      <td>9</td>\n",
       "      <td>Divorced</td>\n",
       "      <td>Handlers-cleaners</td>\n",
       "      <td>Not-in-family</td>\n",
       "      <td>0</td>\n",
       "      <td>Male</td>\n",
       "      <td>0</td>\n",
       "      <td>0</td>\n",
       "      <td>40</td>\n",
       "      <td>0</td>\n",
       "      <td>0</td>\n",
       "    </tr>\n",
       "    <tr>\n",
       "      <th>3</th>\n",
       "      <td>53</td>\n",
       "      <td>Private</td>\n",
       "      <td>234721</td>\n",
       "      <td>11th</td>\n",
       "      <td>7</td>\n",
       "      <td>Married-civ-spouse</td>\n",
       "      <td>Handlers-cleaners</td>\n",
       "      <td>Husband</td>\n",
       "      <td>1</td>\n",
       "      <td>Male</td>\n",
       "      <td>0</td>\n",
       "      <td>0</td>\n",
       "      <td>40</td>\n",
       "      <td>0</td>\n",
       "      <td>0</td>\n",
       "    </tr>\n",
       "    <tr>\n",
       "      <th>4</th>\n",
       "      <td>28</td>\n",
       "      <td>Private</td>\n",
       "      <td>338409</td>\n",
       "      <td>Bachelors</td>\n",
       "      <td>13</td>\n",
       "      <td>Married-civ-spouse</td>\n",
       "      <td>Prof-specialty</td>\n",
       "      <td>Wife</td>\n",
       "      <td>1</td>\n",
       "      <td>Female</td>\n",
       "      <td>0</td>\n",
       "      <td>0</td>\n",
       "      <td>40</td>\n",
       "      <td>1</td>\n",
       "      <td>0</td>\n",
       "    </tr>\n",
       "  </tbody>\n",
       "</table>\n",
       "</div>"
      ],
      "text/plain": [
       "   age          workclass  fnlwgt   education  ecudation_number  \\\n",
       "0   39          State-gov   77516   Bachelors                13   \n",
       "1   50   Self-emp-not-inc   83311   Bachelors                13   \n",
       "2   38            Private  215646     HS-grad                 9   \n",
       "3   53            Private  234721        11th                 7   \n",
       "4   28            Private  338409   Bachelors                13   \n",
       "\n",
       "        marital_status          occupation    relationship  race      sex  \\\n",
       "0        Never-married        Adm-clerical   Not-in-family     0     Male   \n",
       "1   Married-civ-spouse     Exec-managerial         Husband     0     Male   \n",
       "2             Divorced   Handlers-cleaners   Not-in-family     0     Male   \n",
       "3   Married-civ-spouse   Handlers-cleaners         Husband     1     Male   \n",
       "4   Married-civ-spouse      Prof-specialty            Wife     1   Female   \n",
       "\n",
       "   capital_gain  capital_loss  hours_per_week  native_country  wage  \n",
       "0          2174             0              40               0     0  \n",
       "1             0             0              13               0     0  \n",
       "2             0             0              40               0     0  \n",
       "3             0             0              40               0     0  \n",
       "4             0             0              40               1     0  "
      ]
     },
     "execution_count": 12,
     "metadata": {},
     "output_type": "execute_result"
    }
   ],
   "source": [
    "adult_df['race'].replace([' White', ' Black', ' Asian-Pac-Islander', ' Amer-Indian-Eskimo', ' Other'], [0, 1, 2, 3, 4], inplace=True)\n",
    "adult_df.head()"
   ]
  },
  {
   "cell_type": "code",
   "execution_count": 13,
   "metadata": {},
   "outputs": [
    {
     "name": "stdout",
     "output_type": "stream",
     "text": [
      " Husband           12704\n",
      " Not-in-family      7865\n",
      " Own-child          4525\n",
      " Unmarried          3271\n",
      " Wife               1435\n",
      " Other-relative      918\n",
      "Name: relationship, dtype: int64\n"
     ]
    }
   ],
   "source": [
    "print(adult_df['relationship'].value_counts())"
   ]
  },
  {
   "cell_type": "markdown",
   "metadata": {},
   "source": [
    "#### 위와 마찬가지로 relationship의 값을 변경"
   ]
  },
  {
   "cell_type": "code",
   "execution_count": 14,
   "metadata": {},
   "outputs": [
    {
     "data": {
      "text/html": [
       "<div>\n",
       "<style scoped>\n",
       "    .dataframe tbody tr th:only-of-type {\n",
       "        vertical-align: middle;\n",
       "    }\n",
       "\n",
       "    .dataframe tbody tr th {\n",
       "        vertical-align: top;\n",
       "    }\n",
       "\n",
       "    .dataframe thead th {\n",
       "        text-align: right;\n",
       "    }\n",
       "</style>\n",
       "<table border=\"1\" class=\"dataframe\">\n",
       "  <thead>\n",
       "    <tr style=\"text-align: right;\">\n",
       "      <th></th>\n",
       "      <th>age</th>\n",
       "      <th>workclass</th>\n",
       "      <th>fnlwgt</th>\n",
       "      <th>education</th>\n",
       "      <th>ecudation_number</th>\n",
       "      <th>marital_status</th>\n",
       "      <th>occupation</th>\n",
       "      <th>relationship</th>\n",
       "      <th>race</th>\n",
       "      <th>sex</th>\n",
       "      <th>capital_gain</th>\n",
       "      <th>capital_loss</th>\n",
       "      <th>hours_per_week</th>\n",
       "      <th>native_country</th>\n",
       "      <th>wage</th>\n",
       "    </tr>\n",
       "  </thead>\n",
       "  <tbody>\n",
       "    <tr>\n",
       "      <th>0</th>\n",
       "      <td>39</td>\n",
       "      <td>State-gov</td>\n",
       "      <td>77516</td>\n",
       "      <td>Bachelors</td>\n",
       "      <td>13</td>\n",
       "      <td>Never-married</td>\n",
       "      <td>Adm-clerical</td>\n",
       "      <td>3</td>\n",
       "      <td>0</td>\n",
       "      <td>Male</td>\n",
       "      <td>2174</td>\n",
       "      <td>0</td>\n",
       "      <td>40</td>\n",
       "      <td>0</td>\n",
       "      <td>0</td>\n",
       "    </tr>\n",
       "    <tr>\n",
       "      <th>1</th>\n",
       "      <td>50</td>\n",
       "      <td>Self-emp-not-inc</td>\n",
       "      <td>83311</td>\n",
       "      <td>Bachelors</td>\n",
       "      <td>13</td>\n",
       "      <td>Married-civ-spouse</td>\n",
       "      <td>Exec-managerial</td>\n",
       "      <td>2</td>\n",
       "      <td>0</td>\n",
       "      <td>Male</td>\n",
       "      <td>0</td>\n",
       "      <td>0</td>\n",
       "      <td>13</td>\n",
       "      <td>0</td>\n",
       "      <td>0</td>\n",
       "    </tr>\n",
       "    <tr>\n",
       "      <th>2</th>\n",
       "      <td>38</td>\n",
       "      <td>Private</td>\n",
       "      <td>215646</td>\n",
       "      <td>HS-grad</td>\n",
       "      <td>9</td>\n",
       "      <td>Divorced</td>\n",
       "      <td>Handlers-cleaners</td>\n",
       "      <td>3</td>\n",
       "      <td>0</td>\n",
       "      <td>Male</td>\n",
       "      <td>0</td>\n",
       "      <td>0</td>\n",
       "      <td>40</td>\n",
       "      <td>0</td>\n",
       "      <td>0</td>\n",
       "    </tr>\n",
       "    <tr>\n",
       "      <th>3</th>\n",
       "      <td>53</td>\n",
       "      <td>Private</td>\n",
       "      <td>234721</td>\n",
       "      <td>11th</td>\n",
       "      <td>7</td>\n",
       "      <td>Married-civ-spouse</td>\n",
       "      <td>Handlers-cleaners</td>\n",
       "      <td>2</td>\n",
       "      <td>1</td>\n",
       "      <td>Male</td>\n",
       "      <td>0</td>\n",
       "      <td>0</td>\n",
       "      <td>40</td>\n",
       "      <td>0</td>\n",
       "      <td>0</td>\n",
       "    </tr>\n",
       "    <tr>\n",
       "      <th>4</th>\n",
       "      <td>28</td>\n",
       "      <td>Private</td>\n",
       "      <td>338409</td>\n",
       "      <td>Bachelors</td>\n",
       "      <td>13</td>\n",
       "      <td>Married-civ-spouse</td>\n",
       "      <td>Prof-specialty</td>\n",
       "      <td>1</td>\n",
       "      <td>1</td>\n",
       "      <td>Female</td>\n",
       "      <td>0</td>\n",
       "      <td>0</td>\n",
       "      <td>40</td>\n",
       "      <td>1</td>\n",
       "      <td>0</td>\n",
       "    </tr>\n",
       "  </tbody>\n",
       "</table>\n",
       "</div>"
      ],
      "text/plain": [
       "   age          workclass  fnlwgt   education  ecudation_number  \\\n",
       "0   39          State-gov   77516   Bachelors                13   \n",
       "1   50   Self-emp-not-inc   83311   Bachelors                13   \n",
       "2   38            Private  215646     HS-grad                 9   \n",
       "3   53            Private  234721        11th                 7   \n",
       "4   28            Private  338409   Bachelors                13   \n",
       "\n",
       "        marital_status          occupation  relationship  race      sex  \\\n",
       "0        Never-married        Adm-clerical             3     0     Male   \n",
       "1   Married-civ-spouse     Exec-managerial             2     0     Male   \n",
       "2             Divorced   Handlers-cleaners             3     0     Male   \n",
       "3   Married-civ-spouse   Handlers-cleaners             2     1     Male   \n",
       "4   Married-civ-spouse      Prof-specialty             1     1   Female   \n",
       "\n",
       "   capital_gain  capital_loss  hours_per_week  native_country  wage  \n",
       "0          2174             0              40               0     0  \n",
       "1             0             0              13               0     0  \n",
       "2             0             0              40               0     0  \n",
       "3             0             0              40               0     0  \n",
       "4             0             0              40               1     0  "
      ]
     },
     "execution_count": 14,
     "metadata": {},
     "output_type": "execute_result"
    }
   ],
   "source": [
    "adult_df['relationship'].replace([' Unmarried',' Wife',' Husband',' Not-in-family',' Own-child',' Other-relative'],[0, 1, 2, 3, 4, 5], inplace=True)\n",
    "adult_df.head()"
   ]
  },
  {
   "cell_type": "markdown",
   "metadata": {},
   "source": [
    "#### 값의 빈칸 제거"
   ]
  },
  {
   "cell_type": "code",
   "execution_count": 15,
   "metadata": {},
   "outputs": [],
   "source": [
    "adult_df = adult_df.apply(lambda x: x.str.strip() if x.dtype == \"object\" else x)"
   ]
  },
  {
   "cell_type": "markdown",
   "metadata": {},
   "source": [
    "### 값 변경 후 seaborn을 이용한 데이터 확인"
   ]
  },
  {
   "cell_type": "code",
   "execution_count": 16,
   "metadata": {},
   "outputs": [
    {
     "data": {
      "text/plain": [
       "<AxesSubplot:xlabel='workclass', ylabel='age'>"
      ]
     },
     "execution_count": 16,
     "metadata": {},
     "output_type": "execute_result"
    },
    {
     "data": {
      "image/png": "[encoded data removed]",
      "text/plain": [
       "<Figure size 432x288 with 1 Axes>"
      ]
     },
     "metadata": {
      "needs_background": "light"
     },
     "output_type": "display_data"
    }
   ],
   "source": [
    "sns.barplot(x='workclass', y='age', data=adult_df)"
   ]
  },
  {
   "cell_type": "code",
   "execution_count": 17,
   "metadata": {},
   "outputs": [
    {
     "data": {
      "text/plain": [
       "<AxesSubplot:xlabel='race', ylabel='age'>"
      ]
     },
     "execution_count": 17,
     "metadata": {},
     "output_type": "execute_result"
    },
    {
     "data": {
      "image/png": "[encoded data removed]",
      "text/plain": [
       "<Figure size 432x288 with 1 Axes>"
      ]
     },
     "metadata": {
      "needs_background": "light"
     },
     "output_type": "display_data"
    }
   ],
   "source": [
    "sns.barplot(x='race', y='age', hue='wage', data=adult_df)"
   ]
  },
  {
   "cell_type": "code",
   "execution_count": 18,
   "metadata": {},
   "outputs": [
    {
     "data": {
      "text/plain": [
       "<AxesSubplot:xlabel='wage', ylabel='age'>"
      ]
     },
     "execution_count": 18,
     "metadata": {},
     "output_type": "execute_result"
    },
    {
     "data": {
      "image/png": "[encoded data removed]",
      "text/plain": [
       "<Figure size 432x288 with 1 Axes>"
      ]
     },
     "metadata": {
      "needs_background": "light"
     },
     "output_type": "display_data"
    }
   ],
   "source": [
    "sns.barplot(x='wage', y='age', hue='sex', data=adult_df)"
   ]
  },
  {
   "cell_type": "code",
   "execution_count": 19,
   "metadata": {},
   "outputs": [
    {
     "data": {
      "text/plain": [
       "<AxesSubplot:>"
      ]
     },
     "execution_count": 19,
     "metadata": {},
     "output_type": "execute_result"
    },
    {
     "data": {
      "image/png": "[encoded data removed]",
      "text/plain": [
       "<Figure size 432x288 with 2 Axes>"
      ]
     },
     "metadata": {
      "needs_background": "light"
     },
     "output_type": "display_data"
    }
   ],
   "source": [
    "sns.heatmap(adult_df.corr(), annot=True, fmt='.2f')"
   ]
  },
  {
   "cell_type": "markdown",
   "metadata": {},
   "source": [
    "### 필요없다고 판단한 데이터 제거 후 encoding"
   ]
  },
  {
   "cell_type": "code",
   "execution_count": 20,
   "metadata": {},
   "outputs": [],
   "source": [
    "def drop_features(df):\n",
    "    df.drop(['fnlwgt', 'capital_gain', 'capital_loss', 'education', 'workclass', 'occupation'], axis=1, inplace=True)\n",
    "    return df"
   ]
  },
  {
   "cell_type": "code",
   "execution_count": 21,
   "metadata": {},
   "outputs": [],
   "source": [
    "from sklearn import preprocessing\n",
    "from sklearn.preprocessing import LabelEncoder\n",
    "\n",
    "def format_features(df):\n",
    "    features = ['marital_status', 'relationship', 'race', 'sex', 'native_country']\n",
    "    for feature in features:\n",
    "        le =  LabelEncoder()\n",
    "        le = le.fit(df[feature])\n",
    "        df[feature] = le.transform(df[feature])\n",
    "    return df"
   ]
  },
  {
   "cell_type": "code",
   "execution_count": 22,
   "metadata": {},
   "outputs": [],
   "source": [
    "def transform_features(df):\n",
    "    df = drop_features(df)\n",
    "    df = format_features(df)\n",
    "    return df"
   ]
  },
  {
   "cell_type": "code",
   "execution_count": 23,
   "metadata": {},
   "outputs": [],
   "source": [
    "from sklearn.model_selection import *\n",
    "\n",
    "y_adult_df = adult_df['wage']\n",
    "x_adult_df = adult_df.drop('wage', axis=1)\n",
    "\n",
    "x_adult_df = transform_features(x_adult_df)\n",
    "x_train, x_test, y_train, y_test = train_test_split(x_adult_df, y_adult_df, test_size=0.2, random_state=11)"
   ]
  },
  {
   "cell_type": "code",
   "execution_count": 24,
   "metadata": {},
   "outputs": [],
   "source": [
    "from sklearn.tree import DecisionTreeClassifier\n",
    "from sklearn.ensemble import RandomForestClassifier\n",
    "from sklearn.linear_model import LogisticRegression\n",
    "from sklearn.metrics import accuracy_score\n",
    "\n",
    "dt_clf = DecisionTreeClassifier(random_state=22)\n",
    "rf_clf = RandomForestClassifier(random_state=22)\n",
    "lr_clf = LogisticRegression(max_iter=500)"
   ]
  },
  {
   "cell_type": "markdown",
   "metadata": {},
   "source": [
    "### Decision Tree, Random Forest, Logistic Regression 정확도 확인"
   ]
  },
  {
   "cell_type": "code",
   "execution_count": 25,
   "metadata": {},
   "outputs": [
    {
     "name": "stdout",
     "output_type": "stream",
     "text": [
      "DecisionTreeClassifier 정확도: 0.7786\n",
      "RandomForestClassifier 정확도: 0.7990\n",
      "LogisticRegression 정확도: 0.7943\n"
     ]
    }
   ],
   "source": [
    "dt_clf.fit(x_train, y_train)\n",
    "dt_pred = dt_clf.predict(x_test)\n",
    "print('DecisionTreeClassifier 정확도: {0:.4f}'.format(accuracy_score(y_test, dt_pred)))\n",
    "\n",
    "rf_clf.fit(x_train, y_train)\n",
    "rf_pred = rf_clf.predict(x_test)\n",
    "print('RandomForestClassifier 정확도: {0:.4f}'.format(accuracy_score(y_test, rf_pred)))\n",
    "\n",
    "lr_clf.fit(x_train, y_train)\n",
    "lr_pred = lr_clf.predict(x_test)\n",
    "print('LogisticRegression 정확도: {0:.4f}'.format(accuracy_score(y_test, lr_pred)))\n",
    "\n"
   ]
  },
  {
   "cell_type": "markdown",
   "metadata": {},
   "source": [
    "#### 각 모델의 정확도를 비교해보면 Random Forest가 가장 높은 정확도를 보임"
   ]
  },
  {
   "cell_type": "markdown",
   "metadata": {},
   "source": [
    "### GridSearchCV를 이용한 최적의 파라미터 찾기"
   ]
  },
  {
   "cell_type": "code",
   "execution_count": 26,
   "metadata": {},
   "outputs": [
    {
     "name": "stdout",
     "output_type": "stream",
     "text": [
      "GridSearchCV 최적 하이퍼 파라미터(dt):  {'max_depth': 10, 'min_samples_leaf': 8, 'min_samples_split': 2}\n",
      "GridSearchCV 최고 정확도: 0.8208\n",
      "테스트 세트에서의 DecisionTreeClassifier 정확도: 0.8213 \n",
      "\n",
      "GridSearchCV 최적 하이퍼 파라미터(Rf):  {'max_depth': 10, 'min_samples_leaf': 5, 'min_samples_split': 2}\n",
      "GridSearchCV 최고 정확도: 0.8260\n",
      "테스트 세트에서의 RandomForestClassifier 정확도: 0.8169\n"
     ]
    }
   ],
   "source": [
    "from sklearn.model_selection import GridSearchCV\n",
    "\n",
    "parameters = {'max_depth': [2, 3, 5, 10],\n",
    "                'min_samples_split': [2, 3, 5],\n",
    "                'min_samples_leaf': [1, 5, 8]}\n",
    "\n",
    "grid_dcif = GridSearchCV(dt_clf, param_grid=parameters, scoring='accuracy', cv=5)\n",
    "grid_dcif.fit(x_train, y_train)\n",
    "\n",
    "grid_rf = GridSearchCV(rf_clf, param_grid=parameters, scoring='accuracy', cv=5)\n",
    "grid_rf.fit(x_train, y_train)\n",
    "\n",
    "\n",
    "best_dcif = grid_dcif.best_estimator_\n",
    "best_rf = grid_rf.best_estimator_\n",
    "\n",
    "dpredictionsdc = best_dcif.predict(x_test)\n",
    "accuracydc = accuracy_score(y_test, dpredictionsdc)\n",
    "\n",
    "dpredictionsrf = best_rf.predict(x_test)\n",
    "accuracyrf = accuracy_score(y_test, dpredictionsrf)\n",
    "\n",
    "print('GridSearchCV 최적 하이퍼 파라미터(dt): ', grid_dcif.best_params_)\n",
    "print('GridSearchCV 최고 정확도: {0:.4f}'.format(grid_dcif.best_score_))\n",
    "print('테스트 세트에서의 DecisionTreeClassifier 정확도: {0:.4f}'.format(accuracydc), '\\n')\n",
    "\n",
    "print('GridSearchCV 최적 하이퍼 파라미터(Rf): ', grid_rf.best_params_)\n",
    "print('GridSearchCV 최고 정확도: {0:.4f}'.format(grid_rf.best_score_))\n",
    "print('테스트 세트에서의 RandomForestClassifier 정확도: {0:.4f}'.format(accuracyrf))\n",
    "\n",
    "\n"
   ]
  },
  {
   "cell_type": "code",
   "execution_count": 27,
   "metadata": {},
   "outputs": [
    {
     "name": "stdout",
     "output_type": "stream",
     "text": [
      "GridSearchCV 최적 하이퍼 파라미터(lr):  {'C': 190}\n",
      "GridSearchCV 최고 정확도: 0.8002\n",
      "테스트 세트에서의 LogisticRegression 정확도: 0.7943\n"
     ]
    }
   ],
   "source": [
    "logiparameters = {'C': [180, 190, 200, 210],}\n",
    "\n",
    "grid_lrif = GridSearchCV(lr_clf, param_grid=logiparameters, scoring='accuracy', cv=5)\n",
    "grid_lrif.fit(x_train, y_train)\n",
    "\n",
    "best_lrif = grid_lrif.best_estimator_\n",
    "dpredictionslr = best_lrif.predict(x_test)\n",
    "accuracylr = accuracy_score(y_test, dpredictionslr)\n",
    "\n",
    "print('GridSearchCV 최적 하이퍼 파라미터(lr): ', grid_lrif.best_params_)\n",
    "print('GridSearchCV 최고 정확도: {0:.4f}'.format(grid_lrif.best_score_))\n",
    "print('테스트 세트에서의 LogisticRegression 정확도: {0:.4f}'.format(accuracylr))"
   ]
  },
  {
   "cell_type": "markdown",
   "metadata": {},
   "source": [
    "#### 최적의 파라미터를 통해 다시 정확도 확인\n",
    ">근소하게 정확도가 높아진 것을 확인할 수 있음"
   ]
  },
  {
   "cell_type": "code",
   "execution_count": 28,
   "metadata": {},
   "outputs": [],
   "source": [
    "from sklearn.metrics import *\n",
    "import matplotlib.pyplot as plt\n",
    "from sklearn.preprocessing import *\n",
    "\n",
    "def get_clf_eval(y_test, pred):\n",
    "    confusion = confusion_matrix(y_test, pred)\n",
    "    accuracy = accuracy_score(y_test, pred)\n",
    "    precision = precision_score(y_test, pred)\n",
    "    recall = recall_score(y_test, pred)\n",
    "    f1 = f1_score(y_test, pred)\n",
    "    roc_score = roc_auc_score(y_test, pred)\n",
    "    print('오차 행렬')\n",
    "    print(confusion)\n",
    "    print('정확도: {0:.4f}, 정밀도: {1:.4f}, 재현율: {2:.4f}, F1: {3:.4f}, AUC: {4:.4f}'.format(accuracy, precision, recall, f1, roc_score))\n",
    "\n",
    "threshholds = [0.3, 0.33, 0.36, 0.39, 0.42, 0.45, 0.48, 0.5]\n",
    "\n",
    "def get_eval_by_threshold(y_test, pred_proba_c1, threshholds):\n",
    "    for custom_threshold in threshholds:\n",
    "        binarizer = Binarizer(threshold=custom_threshold).fit(pred_proba_c1)\n",
    "        custom_predict = binarizer.transform(pred_proba_c1)\n",
    "        print('임계값:', custom_threshold)\n",
    "        get_clf_eval(y_test, custom_predict)"
   ]
  },
  {
   "cell_type": "markdown",
   "metadata": {},
   "source": [
    "### 위에서 얻은 최적의 파라미터 적용"
   ]
  },
  {
   "cell_type": "code",
   "execution_count": 29,
   "metadata": {},
   "outputs": [
    {
     "data": {
      "text/plain": [
       "LogisticRegression(C=190, max_iter=500)"
      ]
     },
     "execution_count": 29,
     "metadata": {},
     "output_type": "execute_result"
    }
   ],
   "source": [
    "dt_clf_best = DecisionTreeClassifier(random_state=22, max_depth= 10, min_samples_leaf= 8, min_samples_split= 2)\n",
    "rf_clf_best = RandomForestClassifier(random_state=22, max_depth= 10, min_samples_leaf= 5, min_samples_split= 2)\n",
    "lr_clf_best = LogisticRegression(max_iter=500, C= 190)\n",
    "\n",
    "dt_clf_best.fit(x_train, y_train)\n",
    "rf_clf_best.fit(x_train, y_train)\n",
    "lr_clf_best.fit(x_train, y_train)"
   ]
  },
  {
   "cell_type": "markdown",
   "metadata": {},
   "source": [
    "#### 최적의 파라미터를 적용한 모델의 정확도, 정밀도, 재현율, F1, AUC 확인"
   ]
  },
  {
   "cell_type": "markdown",
   "metadata": {},
   "source": [
    ">Decision Tree"
   ]
  },
  {
   "cell_type": "code",
   "execution_count": 30,
   "metadata": {},
   "outputs": [
    {
     "name": "stdout",
     "output_type": "stream",
     "text": [
      "임계값: 0.3\n",
      "오차 행렬\n",
      "[[3530 1044]\n",
      " [ 280 1290]]\n",
      "정확도: 0.7845, 정밀도: 0.5527, 재현율: 0.8217, F1: 0.6609, AUC: 0.7967\n",
      "임계값: 0.33\n",
      "오차 행렬\n",
      "[[3738  836]\n",
      " [ 378 1192]]\n",
      "정확도: 0.8024, 정밀도: 0.5878, 재현율: 0.7592, F1: 0.6626, AUC: 0.7882\n",
      "임계값: 0.36\n",
      "오차 행렬\n",
      "[[3763  811]\n",
      " [ 385 1185]]\n",
      "정확도: 0.8053, 정밀도: 0.5937, 재현율: 0.7548, F1: 0.6646, AUC: 0.7887\n",
      "임계값: 0.39\n",
      "오차 행렬\n",
      "[[3802  772]\n",
      " [ 404 1166]]\n",
      "정확도: 0.8086, 정밀도: 0.6017, 재현율: 0.7427, F1: 0.6648, AUC: 0.7869\n",
      "임계값: 0.42\n",
      "오차 행렬\n",
      "[[3986  588]\n",
      " [ 547 1023]]\n",
      "정확도: 0.8153, 정밀도: 0.6350, 재현율: 0.6516, F1: 0.6432, AUC: 0.7615\n",
      "임계값: 0.45\n",
      "오차 행렬\n",
      "[[4025  549]\n",
      " [ 585  985]]\n",
      "정확도: 0.8154, 정밀도: 0.6421, 재현율: 0.6274, F1: 0.6347, AUC: 0.7537\n",
      "임계값: 0.48\n",
      "오차 행렬\n",
      "[[4165  409]\n",
      " [ 689  881]]\n",
      "정확도: 0.8213, 정밀도: 0.6829, 재현율: 0.5611, F1: 0.6161, AUC: 0.7359\n",
      "임계값: 0.5\n",
      "오차 행렬\n",
      "[[4180  394]\n",
      " [ 704  866]]\n",
      "정확도: 0.8213, 정밀도: 0.6873, 재현율: 0.5516, F1: 0.6120, AUC: 0.7327\n"
     ]
    }
   ],
   "source": [
    "pred_proba_dt = dt_clf_best.predict_proba(x_test)\n",
    "get_eval_by_threshold(y_test, pred_proba_dt[:, 1].reshape(-1, 1), threshholds)"
   ]
  },
  {
   "cell_type": "markdown",
   "metadata": {},
   "source": [
    "#### Decision Tree의 베스트"
   ]
  },
  {
   "cell_type": "code",
   "execution_count": 31,
   "metadata": {},
   "outputs": [
    {
     "name": "stdout",
     "output_type": "stream",
     "text": [
      "오차 행렬\n",
      "[[4165  409]\n",
      " [ 689  881]]\n",
      "정확도: 0.8213, 정밀도: 0.6829, 재현율: 0.5611, F1: 0.6161, AUC: 0.7359\n"
     ]
    }
   ],
   "source": [
    "binarizer_dt = Binarizer(threshold=0.48)\n",
    "pred_th_048 = binarizer_dt.fit_transform(pred_proba_dt[:, 1].reshape(-1, 1))\n",
    "get_clf_eval(y_test, pred_th_048)"
   ]
  },
  {
   "cell_type": "code",
   "execution_count": 32,
   "metadata": {},
   "outputs": [],
   "source": [
    "def precision_recall_curve_plot(y_test, pred_proba_c1):\n",
    "    precisions, recalls, thresholds = precision_recall_curve(y_test, pred_proba_c1)\n",
    "\n",
    "    plt.figure(figsize=(8, 6))\n",
    "    threshold_boundary = thresholds.shape[0]\n",
    "    plt.plot(thresholds, precisions[0:threshold_boundary], linestyle='--', label='precision')\n",
    "    plt.plot(thresholds, recalls[0:threshold_boundary], label='recall')\n",
    "\n",
    "    start, end = plt.xlim()\n",
    "    plt.xticks(np.round(np.arange(start, end, 0.1), 2))\n",
    "\n",
    "    plt.xlabel('Threshold value'); plt.ylabel('Precision and Recall value')\n",
    "    plt.legend(); plt.grid()\n",
    "    plt.show()"
   ]
  },
  {
   "cell_type": "markdown",
   "metadata": {},
   "source": [
    "#### 재현율과 정밀도 그래프 확인"
   ]
  },
  {
   "cell_type": "code",
   "execution_count": 33,
   "metadata": {},
   "outputs": [
    {
     "data": {
      "image/png": "[encoded data removed]",
      "text/plain": [
       "<Figure size 576x432 with 1 Axes>"
      ]
     },
     "metadata": {
      "needs_background": "light"
     },
     "output_type": "display_data"
    }
   ],
   "source": [
    "precision_recall_curve_plot(y_test, pred_proba_dt[:, 1])"
   ]
  },
  {
   "cell_type": "markdown",
   "metadata": {},
   "source": [
    ">Random Forest"
   ]
  },
  {
   "cell_type": "code",
   "execution_count": 34,
   "metadata": {},
   "outputs": [
    {
     "name": "stdout",
     "output_type": "stream",
     "text": [
      "임계값: 0.3\n",
      "오차 행렬\n",
      "[[3614  960]\n",
      " [ 287 1283]]\n",
      "정확도: 0.7970, 정밀도: 0.5720, 재현율: 0.8172, F1: 0.6730, AUC: 0.8037\n",
      "임계값: 0.33\n",
      "오차 행렬\n",
      "[[3706  868]\n",
      " [ 336 1234]]\n",
      "정확도: 0.8040, 정밀도: 0.5871, 재현율: 0.7860, F1: 0.6721, AUC: 0.7981\n",
      "임계값: 0.36\n",
      "오차 행렬\n",
      "[[3775  799]\n",
      " [ 380 1190]]\n",
      "정확도: 0.8081, 정밀도: 0.5983, 재현율: 0.7580, F1: 0.6687, AUC: 0.7916\n",
      "임계값: 0.39\n",
      "오차 행렬\n",
      "[[3848  726]\n",
      " [ 425 1145]]\n",
      "정확도: 0.8127, 정밀도: 0.6120, 재현율: 0.7293, F1: 0.6655, AUC: 0.7853\n",
      "임계값: 0.42\n",
      "오차 행렬\n",
      "[[4027  547]\n",
      " [ 551 1019]]\n",
      "정확도: 0.8213, 정밀도: 0.6507, 재현율: 0.6490, F1: 0.6499, AUC: 0.7647\n",
      "임계값: 0.45\n",
      "오차 행렬\n",
      "[[4133  441]\n",
      " [ 667  903]]\n",
      "정확도: 0.8197, 정밀도: 0.6719, 재현율: 0.5752, F1: 0.6198, AUC: 0.7394\n",
      "임계값: 0.48\n",
      "오차 행렬\n",
      "[[4251  323]\n",
      " [ 778  792]]\n",
      "정확도: 0.8208, 정밀도: 0.7103, 재현율: 0.5045, F1: 0.5899, AUC: 0.7169\n",
      "임계값: 0.5\n",
      "오차 행렬\n",
      "[[4297  277]\n",
      " [ 848  722]]\n",
      "정확도: 0.8169, 정밀도: 0.7227, 재현율: 0.4599, F1: 0.5621, AUC: 0.6997\n"
     ]
    }
   ],
   "source": [
    "predrf = rf_clf_best.predict(x_test)\n",
    "pred_probarf = rf_clf_best.predict_proba(x_test)[:, 1]\n",
    "\n",
    "get_eval_by_threshold(y_test, pred_probarf.reshape(-1, 1), threshholds)"
   ]
  },
  {
   "cell_type": "markdown",
   "metadata": {},
   "source": [
    "#### Random Forest의 베스트"
   ]
  },
  {
   "cell_type": "code",
   "execution_count": 44,
   "metadata": {},
   "outputs": [
    {
     "name": "stdout",
     "output_type": "stream",
     "text": [
      "오차 행렬\n",
      "[[4027  547]\n",
      " [ 551 1019]]\n",
      "정확도: 0.8213, 정밀도: 0.6507, 재현율: 0.6490, F1: 0.6499, AUC: 0.7647\n"
     ]
    }
   ],
   "source": [
    "binarizer_rf = Binarizer(threshold=0.42)\n",
    "pred_rf_042 = binarizer_rf.fit_transform(pred_probarf.reshape(-1, 1))\n",
    "get_clf_eval(y_test, pred_rf_042)"
   ]
  },
  {
   "cell_type": "code",
   "execution_count": 35,
   "metadata": {},
   "outputs": [
    {
     "data": {
      "image/png": "[encoded data removed]",
      "text/plain": [
       "<Figure size 576x432 with 1 Axes>"
      ]
     },
     "metadata": {
      "needs_background": "light"
     },
     "output_type": "display_data"
    }
   ],
   "source": [
    "precision_recall_curve_plot(y_test, pred_probarf)"
   ]
  },
  {
   "cell_type": "markdown",
   "metadata": {},
   "source": [
    ">Logistic Regression"
   ]
  },
  {
   "cell_type": "code",
   "execution_count": 36,
   "metadata": {},
   "outputs": [
    {
     "name": "stdout",
     "output_type": "stream",
     "text": [
      "임계값: 0.3\n",
      "오차 행렬\n",
      "[[3631  943]\n",
      " [ 495 1075]]\n",
      "정확도: 0.7660, 정밀도: 0.5327, 재현율: 0.6847, F1: 0.5992, AUC: 0.7393\n",
      "임계값: 0.33\n",
      "오차 행렬\n",
      "[[3755  819]\n",
      " [ 556 1014]]\n",
      "정확도: 0.7762, 정밀도: 0.5532, 재현율: 0.6459, F1: 0.5959, AUC: 0.7334\n",
      "임계값: 0.36\n",
      "오차 행렬\n",
      "[[3869  705]\n",
      " [ 636  934]]\n",
      "정확도: 0.7817, 정밀도: 0.5699, 재현율: 0.5949, F1: 0.5821, AUC: 0.7204\n",
      "임계값: 0.39\n",
      "오차 행렬\n",
      "[[3977  597]\n",
      " [ 705  865]]\n",
      "정확도: 0.7881, 정밀도: 0.5917, 재현율: 0.5510, F1: 0.5706, AUC: 0.7102\n",
      "임계값: 0.42\n",
      "오차 행렬\n",
      "[[4048  526]\n",
      " [ 767  803]]\n",
      "정확도: 0.7896, 정밀도: 0.6042, 재현율: 0.5115, F1: 0.5540, AUC: 0.6982\n",
      "임계값: 0.45\n",
      "오차 행렬\n",
      "[[4113  461]\n",
      " [ 824  746]]\n",
      "정확도: 0.7909, 정밀도: 0.6181, 재현율: 0.4752, F1: 0.5373, AUC: 0.6872\n",
      "임계값: 0.48\n",
      "오차 행렬\n",
      "[[4189  385]\n",
      " [ 876  694]]\n",
      "정확도: 0.7948, 정밀도: 0.6432, 재현율: 0.4420, F1: 0.5240, AUC: 0.6789\n",
      "임계값: 0.5\n",
      "오차 행렬\n",
      "[[4230  344]\n",
      " [ 920  650]]\n",
      "정확도: 0.7943, 정밀도: 0.6539, 재현율: 0.4140, F1: 0.5070, AUC: 0.6694\n"
     ]
    }
   ],
   "source": [
    "predlr = lr_clf_best.predict(x_test)\n",
    "pred_probalr = lr_clf_best.predict_proba(x_test)[:, 1]\n",
    "\n",
    "get_eval_by_threshold(y_test, pred_probalr.reshape(-1, 1), threshholds)"
   ]
  },
  {
   "cell_type": "markdown",
   "metadata": {},
   "source": [
    "#### Logistic Regression의 베스트"
   ]
  },
  {
   "cell_type": "code",
   "execution_count": 47,
   "metadata": {},
   "outputs": [
    {
     "name": "stdout",
     "output_type": "stream",
     "text": [
      "오차 행렬\n",
      "[[3900  674]\n",
      " [ 663  907]]\n",
      "정확도: 0.7824, 정밀도: 0.5737, 재현율: 0.5777, F1: 0.5757, AUC: 0.7152\n"
     ]
    }
   ],
   "source": [
    "binarizer_lr = Binarizer(threshold=0.37)\n",
    "pred_lr_037 = binarizer_lr.fit_transform(pred_probalr.reshape(-1, 1))\n",
    "get_clf_eval(y_test, pred_lr_037)"
   ]
  },
  {
   "cell_type": "code",
   "execution_count": 37,
   "metadata": {},
   "outputs": [
    {
     "data": {
      "image/png": "[encoded data removed]",
      "text/plain": [
       "<Figure size 576x432 with 1 Axes>"
      ]
     },
     "metadata": {
      "needs_background": "light"
     },
     "output_type": "display_data"
    }
   ],
   "source": [
    "precision_recall_curve_plot(y_test, pred_probalr)"
   ]
  },
  {
   "cell_type": "code",
   "execution_count": 38,
   "metadata": {},
   "outputs": [],
   "source": [
    "def roc_curve_plot(y_test, pred_proba_c1):\n",
    "    fprs, tprs, thresholds = roc_curve(y_test, pred_proba_c1)\n",
    "\n",
    "    plt.plot(fprs, tprs, label='ROC')\n",
    "    plt.plot([0, 1], [0, 1], 'k--', label='Random')\n",
    "\n",
    "    start, end = plt.xlim()\n",
    "    plt.xticks(np.round(np.arange(start, end, 0.1), 2))\n",
    "    plt.xlim(0, 1)\n",
    "    plt.ylim(0, 1)\n",
    "    plt.xlabel('FPR(1 - Sensitivity)')\n",
    "    plt.ylabel('TPR(Recall)')\n",
    "    plt.legend()\n",
    "    plt.show()\n",
    "    "
   ]
  },
  {
   "cell_type": "markdown",
   "metadata": {},
   "source": [
    "#### 각 모델의 ROC 곡선 및 AUC 값 확인"
   ]
  },
  {
   "cell_type": "markdown",
   "metadata": {},
   "source": [
    ">Decision Tree"
   ]
  },
  {
   "cell_type": "code",
   "execution_count": 39,
   "metadata": {},
   "outputs": [
    {
     "data": {
      "image/png": "[encoded data removed]",
      "text/plain": [
       "<Figure size 432x288 with 1 Axes>"
      ]
     },
     "metadata": {
      "needs_background": "light"
     },
     "output_type": "display_data"
    },
    {
     "name": "stdout",
     "output_type": "stream",
     "text": [
      "ROC AUC 값: 0.8679\n"
     ]
    }
   ],
   "source": [
    "roc_curve_plot(y_test, pred_proba_dt[:, 1])\n",
    "roc_score_dt = roc_auc_score(y_test, pred_proba_dt[:, 1])\n",
    "print('ROC AUC 값: {0:.4f}'.format(roc_score_dt))"
   ]
  },
  {
   "cell_type": "markdown",
   "metadata": {},
   "source": [
    ">Random Forest"
   ]
  },
  {
   "cell_type": "code",
   "execution_count": 40,
   "metadata": {},
   "outputs": [
    {
     "data": {
      "image/png": "[encoded data removed]",
      "text/plain": [
       "<Figure size 432x288 with 1 Axes>"
      ]
     },
     "metadata": {
      "needs_background": "light"
     },
     "output_type": "display_data"
    },
    {
     "name": "stdout",
     "output_type": "stream",
     "text": [
      "ROC AUC 값: 0.8835\n"
     ]
    }
   ],
   "source": [
    "roc_curve_plot(y_test, pred_probarf)\n",
    "roc_score_rf = roc_auc_score(y_test, pred_probarf)\n",
    "print('ROC AUC 값: {0:.4f}'.format(roc_score_rf))"
   ]
  },
  {
   "cell_type": "markdown",
   "metadata": {},
   "source": [
    ">Logistic Regression"
   ]
  },
  {
   "cell_type": "code",
   "execution_count": 41,
   "metadata": {},
   "outputs": [
    {
     "data": {
      "image/png": "[encoded data removed]",
      "text/plain": [
       "<Figure size 432x288 with 1 Axes>"
      ]
     },
     "metadata": {
      "needs_background": "light"
     },
     "output_type": "display_data"
    },
    {
     "name": "stdout",
     "output_type": "stream",
     "text": [
      "ROC AUC 값: 0.8258\n"
     ]
    }
   ],
   "source": [
    "roc_curve_plot(y_test, pred_probalr)\n",
    "roc_score_lr = roc_auc_score(y_test, pred_probalr)\n",
    "print('ROC AUC 값: {0:.4f}'.format(roc_score_lr))"
   ]
  },
  {
   "cell_type": "code",
   "execution_count": 61,
   "metadata": {},
   "outputs": [
    {
     "name": "stdout",
     "output_type": "stream",
     "text": [
      "Fitting 2 folds for each of 20 candidates, totalling 40 fits\n",
      "최적 하이퍼 파라미터:  {'learning_rate': 0.05, 'n_estimators': 300}\n",
      "최고 예측 정확도: 0.8290\n"
     ]
    }
   ],
   "source": [
    "# GBM Hyper parameter\n",
    "params = {\n",
    "    'n_estimators': [100, 200, 300, 400, 500],\n",
    "    'learning_rate': [0.05, 0.1, 0.15, 0.2]\n",
    "}\n",
    "\n",
    "from sklearn.ensemble import GradientBoostingClassifier\n",
    "\n",
    "# GBM model\n",
    "grid_cv = GridSearchCV(GradientBoostingClassifier(random_state=0), param_grid=params, cv=2, verbose=1)\n",
    "grid_cv.fit(x_train, y_train)\n",
    "print('최적 하이퍼 파라미터: ', grid_cv.best_params_)\n",
    "print('최고 예측 정확도: {0:.4f}'.format(grid_cv.best_score_))\n"
   ]
  },
  {
   "cell_type": "markdown",
   "metadata": {},
   "source": [
    "## 결론\n",
    "전처리를 잘하자  \n",
    "-> 의외로 전처리를 많이 안하는편이 좋을 수도 있음\n",
    "\n",
    "무리하게 단순화 시키려고 하지 말자 (튜닝의 끝은 순정이다)"
   ]
  }
 ],
 "metadata": {
  "kernelspec": {
   "display_name": "Python 3.9.7 ('base')",
   "language": "python",
   "name": "python3"
  },
  "language_info": {
   "codemirror_mode": {
    "name": "ipython",
    "version": 3
   },
   "file_extension": ".py",
   "mimetype": "text/x-python",
   "name": "python",
   "nbconvert_exporter": "python",
   "pygments_lexer": "ipython3",
   "version": "3.9.7"
  },
  "orig_nbformat": 4,
  "vscode": {
   "interpreter": {
    "hash": "a077222d77dfe082b8f1dd562ad70e458ac2ab76993a0b248ab0476e32e9e8dd"
   }
  }
 },
 "nbformat": 4,
 "nbformat_minor": 2
}
