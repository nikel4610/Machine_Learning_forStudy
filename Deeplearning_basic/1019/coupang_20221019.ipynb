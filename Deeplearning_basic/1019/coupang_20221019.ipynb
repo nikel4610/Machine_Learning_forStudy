{
 "cells": [
  {
   "cell_type": "markdown",
   "id": "18fecf47",
   "metadata": {},
   "source": [
    "[참고 페이지](https://msgoel.tistory.com/m/entry/%ED%8C%8C%EC%9D%B4%EC%8D%AC-%ED%81%AC%EB%A1%A4%EB%A7%81-%EC%BF%A0%ED%8C%A1-%EB%A1%9C%EA%B7%B8%EC%9D%B8-%EC%B0%A8%EB%8B%A8-%EC%A0%91%EC%86%8D-%EA%B1%B0%EB%B6%80-Access-Denied-%EB%AC%B8%EC%A0%9C-%ED%95%B4%EA%B2%B0-%EB%B0%A9%EB%B2%95)"
   ]
  },
  {
   "cell_type": "code",
   "execution_count": 33,
   "id": "28cc081d",
   "metadata": {
    "scrolled": true
   },
   "outputs": [
    {
     "name": "stderr",
     "output_type": "stream",
     "text": [
      "C:\\Users\\user\\AppData\\Local\\Temp\\ipykernel_13116\\3542735602.py:11: DeprecationWarning: executable_path has been deprecated, please pass in a Service object\n",
      "  driver = webdriver.Chrome('chromedriver.exe', chrome_options=options)\n",
      "C:\\Users\\user\\AppData\\Local\\Temp\\ipykernel_13116\\3542735602.py:11: DeprecationWarning: use options instead of chrome_options\n",
      "  driver = webdriver.Chrome('chromedriver.exe', chrome_options=options)\n"
     ]
    }
   ],
   "source": [
    "from selenium import webdriver\n",
    "from selenium.webdriver.chrome.options import Options\n",
    "import subprocess\n",
    "import shutil\n",
    "\n",
    "subprocess.Popen(r'C:\\Program Files\\Google\\Chrome\\Application\\chrome.exe --remote-debugging-port=9222 --user-data-dir=\"C:\\chrometemp\"')\n",
    "\n",
    "options = webdriver.ChromeOptions()\n",
    "options.add_experimental_option(\"debuggerAddress\", \"127.0.0.1:9222\")\n",
    "\n",
    "driver = webdriver.Chrome('chromedriver.exe', chrome_options=options)\n",
    "\n",
    "driver.implicitly_wait(6)\n",
    "\n",
    "url = 'https://www.coupang.com'\n",
    "driver.get(url)"
   ]
  },
  {
   "cell_type": "markdown",
   "id": "532da6cd",
   "metadata": {},
   "source": [
    "### 검색 키워드로 검색하기"
   ]
  },
  {
   "cell_type": "code",
   "execution_count": 34,
   "id": "1c23e858",
   "metadata": {},
   "outputs": [],
   "source": [
    "from selenium.webdriver.common.by import By\n",
    "keyword = '낚시대'\n",
    "driver.find_element(By.ID, 'headerSearchKeyword').send_keys(keyword)\n",
    "driver.find_element(By.ID, 'headerSearchBtn').click()"
   ]
  },
  {
   "cell_type": "markdown",
   "id": "b785e037",
   "metadata": {},
   "source": [
    "1번 항목 선택"
   ]
  },
  {
   "cell_type": "code",
   "execution_count": 35,
   "id": "aa9530bc",
   "metadata": {},
   "outputs": [
    {
     "data": {
      "text/plain": [
       "'https://www.coupang.com/np/search?component=&q=%EB%82%9A%EC%8B%9C%EB%8C%80&channel=user'"
      ]
     },
     "execution_count": 35,
     "metadata": {},
     "output_type": "execute_result"
    }
   ],
   "source": [
    "driver.find_element(By.CSS_SELECTOR,'li.search-product > a > dl.search-product-wrap').click()\n",
    "driver.current_url\n",
    "# 현재 driver에 할당된 웹 페이지 확인"
   ]
  },
  {
   "cell_type": "code",
   "execution_count": 56,
   "id": "52a97b5c",
   "metadata": {},
   "outputs": [
    {
     "data": {
      "text/plain": [
       "2"
      ]
     },
     "execution_count": 56,
     "metadata": {},
     "output_type": "execute_result"
    }
   ],
   "source": [
    "len(driver.window_handles)"
   ]
  },
  {
   "cell_type": "code",
   "execution_count": 36,
   "id": "63c6669c",
   "metadata": {},
   "outputs": [],
   "source": [
    "# 드라이버를 새로운 웹 페이지로 변경\n",
    "driver.switch_to.window(driver.window_handles[1])"
   ]
  },
  {
   "cell_type": "code",
   "execution_count": 37,
   "id": "f7fda26f",
   "metadata": {},
   "outputs": [],
   "source": [
    "# 페이지 다운 2회 \n",
    "from selenium.webdriver.common.keys import Keys\n",
    "driver.find_element(By.CSS_SELECTOR, 'body').send_keys(Keys.PAGE_DOWN)\n",
    "driver.find_element(By.CSS_SELECTOR, 'body').send_keys(Keys.PAGE_DOWN)"
   ]
  },
  {
   "cell_type": "code",
   "execution_count": 38,
   "id": "884b4f95",
   "metadata": {},
   "outputs": [],
   "source": [
    "# 상품평 탭으로 이동\n",
    "driver.find_element(By.CSS_SELECTOR, '#btfTab > ul.tab-titles > li:nth-child(2)').click()"
   ]
  },
  {
   "cell_type": "markdown",
   "id": "d5d9ad97",
   "metadata": {},
   "source": [
    "### 고객이 남긴 글 추출"
   ]
  },
  {
   "cell_type": "code",
   "execution_count": 39,
   "id": "03a4d2d4",
   "metadata": {
    "scrolled": true
   },
   "outputs": [
    {
     "name": "stdout",
     "output_type": "stream",
     "text": [
      "좋습니다\n",
      "마지막 세번째 마디에서 들어가지 않이 강제로 넣음\n",
      "30마리잡고 뿌서어져 버렸네요 ㅠㅠ\n",
      "별 한개도 아까운 제품 이내요 만들지말지 . . .\n",
      "사용만족감은최고입니다\n"
     ]
    }
   ],
   "source": [
    "reviews = driver.find_elements(By.CLASS_NAME,'sdp-review__article__list__headline')\n",
    "for review in reviews:\n",
    "    print(review.text)"
   ]
  },
  {
   "cell_type": "markdown",
   "id": "a5d6fcf3",
   "metadata": {},
   "source": [
    "### Page 전환 예"
   ]
  },
  {
   "cell_type": "code",
   "execution_count": 40,
   "id": "bb581566",
   "metadata": {},
   "outputs": [],
   "source": [
    "pages = driver.find_elements(By.CLASS_NAME,'sdp-review__article__page__num')"
   ]
  },
  {
   "cell_type": "code",
   "execution_count": 41,
   "id": "12133e96",
   "metadata": {},
   "outputs": [],
   "source": [
    "pages[1].click()"
   ]
  },
  {
   "cell_type": "code",
   "execution_count": null,
   "id": "a6250a59",
   "metadata": {},
   "outputs": [],
   "source": []
  }
 ],
 "metadata": {
  "kernelspec": {
   "display_name": "Python 3 (ipykernel)",
   "language": "python",
   "name": "python3"
  },
  "language_info": {
   "codemirror_mode": {
    "name": "ipython",
    "version": 3
   },
   "file_extension": ".py",
   "mimetype": "text/x-python",
   "name": "python",
   "nbconvert_exporter": "python",
   "pygments_lexer": "ipython3",
   "version": "3.9.12"
  }
 },
 "nbformat": 4,
 "nbformat_minor": 5
}
