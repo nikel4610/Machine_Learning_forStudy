{
  "cells": [
    {
      "cell_type": "markdown",
      "metadata": {
        "id": "vhpNJiSUHpsw"
      },
      "source": [
        "# 16장 이미지 인식의 꽃, 컨볼루션 신경망(CNN)\n",
        "\n",
        "<br><center>\n",
        "<img src =\"https://drive.google.com/uc?id=1XnLRGBH8hQRhTl-UBrNJr-Odn285dHhX\" width=400>\n",
        "</center><br>\n",
        "급히 전달 받은 노트에 숫자가 적혀 있습니다. 뭐라고 쓰여있는지 읽기에 어렵지 않습니다. 일반적인 사람에게 이 사진에 나온 숫자를 읽어 보라고 하면 대부분 '504192'라고 일겠지요. 그런데 컴퓨터에 이 글씨를 읽게 하고 이 글씨가 어떤 의미인지 알게 하는 과정은 쉽지 않습니다. 사람이 볼 때는 쉽게 알수 있는 글씨라고 하더라도 숫자 5는 어떤 특징을 가졌고 숫자 9는 6과 어떻게 다른지 기계가 스스로 파악해 정확하게 읽고 판단하게 만드는 것은 머신 러닝의 오랜 진입 과제였습니다. \n",
        "\n",
        "**MNIST 데이터셋은 미국 국립표준기술원(NIST)이 고등학생과 인구조사국 직원 등이 쓴 손 글씨를 이용해 만든 데이터로 구성되어 있습니다.** 7만 개의 글자 이미지에 각각 0부터 9까지 이름표를 붙인 데이터셋으로 머신 러닝을 배우는 사람이라면 자신의 알고리즘과 다른 알고리즘의 성과를 비교해 보고자 한 번씩 도전해 보는 유명한 데이터 중 하나 입니다. \n",
        "\n",
        "<br><center>\n",
        "(그림. 16-1) MNIST 손글씨 데이터 이미지<br>\n",
        "<img src=\"https://drive.google.com/uc?id=1Qk2TBWCeUWTwoKjgj741m12W5akADIKJ\">\n",
        "</center><br>  \n",
        "\n",
        "지금까지 배운 딥러닝을 이용해서 과연 이 손글씨 이미지를 몇 %나 정확히 예측할 수 있을까요?"
      ]
    },
    {
      "cell_type": "markdown",
      "metadata": {
        "id": "gQkcG_c9Hpsz"
      },
      "source": [
        "## 1. 이미지를 인식하는 원리\n",
        "MNIST 데이터는 텐서플로의 케라스 API를 이용해 간단히 불러 올 수 있습니다.  \n",
        "\n",
        "```from tensorflow.keras.datasets import mnist```\n",
        "\n",
        "이 때 불러온 이미지 데이터를 X로 이 이미지에 0\\~9를 붙인 이름표를 y로 구분해 표시하겠습니다.  \n",
        "\n",
        "```(X_train, y_train), (X_test, y_test) = mnist.load_data()```  \n",
        "\n",
        "케라스의 MNIST 데이터는 총 7만개 이미 중 6만개를 학습용으로 1만 개는 테스트용으로 미리 구분해 놓고 있습니다. 이런 내용은 다음과 같이 확인할 수 있습니다.  \n",
        "\n",
        "```\n",
        "print('학습 데이터셋 이미지 수 :', X_train.shape[0])\n",
        "print('테스트 데이터셋 이미지 수 :', X_test.shaep[0])\n",
        "```\n",
        "\n",
        "\n",
        "\n"
      ]
    },
    {
      "cell_type": "code",
      "source": [
        "from tensorflow.keras.datasets import mnist\n",
        "(X_train, y_train), (X_test, y_test) = mnist.load_data()"
      ],
      "metadata": {
        "colab": {
          "base_uri": "https://localhost:8080/"
        },
        "id": "eDk8gQPIQasL",
        "outputId": "a8b59272-4a06-4a94-d17d-42722767b73c"
      },
      "execution_count": null,
      "outputs": [
        {
          "output_type": "stream",
          "name": "stdout",
          "text": [
            "Downloading data from https://storage.googleapis.com/tensorflow/tf-keras-datasets/mnist.npz\n",
            "11493376/11490434 [==============================] - 0s 0us/step\n",
            "11501568/11490434 [==============================] - 0s 0us/step\n"
          ]
        }
      ]
    },
    {
      "cell_type": "code",
      "source": [
        "X_train.shape"
      ],
      "metadata": {
        "colab": {
          "base_uri": "https://localhost:8080/"
        },
        "id": "2qaP6WYIVMas",
        "outputId": "05917ad6-dfbb-4b34-bda6-1368753730a9"
      },
      "execution_count": null,
      "outputs": [
        {
          "output_type": "execute_result",
          "data": {
            "text/plain": [
              "(60000, 28, 28)"
            ]
          },
          "metadata": {},
          "execution_count": 6
        }
      ]
    },
    {
      "cell_type": "markdown",
      "source": [
        "불러온 이미지들 중 한 개만 출력해 보겠습니다."
      ],
      "metadata": {
        "id": "w8IbThW4Q317"
      }
    },
    {
      "cell_type": "code",
      "source": [
        "import matplotlib.pyplot as plt\n",
        "plt.imshow(X_train[0], cmap='Greys')\n",
        "plt.show()"
      ],
      "metadata": {
        "colab": {
          "base_uri": "https://localhost:8080/",
          "height": 265
        },
        "id": "Xw46EH27RA7t",
        "outputId": "9ce02178-2543-44a6-863b-14d8939790c4"
      },
      "execution_count": null,
      "outputs": [
        {
          "output_type": "display_data",
          "data": {
            "text/plain": [
              "<Figure size 432x288 with 1 Axes>"
            ],
            "image/png": "[encoded data removed]"
          },
          "metadata": {
            "needs_background": "light"
          }
        }
      ]
    },
    {
      "cell_type": "markdown",
      "source": [
        "이 이미지를 컴퓨터는 어떻게 인식할까요?\n",
        "\n",
        "이 이미지는 가로 28, 세로 28 픽셀 크기입니다. 28 x 28 = 784개의 픽셀로 구성되어 있습니다. 각 픽셀은 밝기 정도에 따라 0부터 255까지 등급을 매깁니다. 흰색 픽셀이의 값이 0이라면 1부터 255까지 옅은 회색에서 점점 더 어두워져 최종적으로 픽셀값이 255는 완전한 검은색이 됩니다. 따라서 위 이미지는 0~255까지의 값을 갖는 행렬로 해석할 수 있습니다. 다시 말해 집합 또는 배열로 생각할 수 있습니다."
      ],
      "metadata": {
        "id": "ianTnln6RNyI"
      }
    },
    {
      "cell_type": "code",
      "source": [
        "import sys\n",
        "\n",
        "for pixel_line in X_train[0]:\n",
        "  for pixel in pixel_line:\n",
        "    sys.stdout.write(\"%-4s\" % pixel)\n",
        "  sys.stdout.write('\\n')"
      ],
      "metadata": {
        "colab": {
          "base_uri": "https://localhost:8080/"
        },
        "id": "yfh6NTXJSMbc",
        "outputId": "95cc4b47-e71f-48e5-aa54-bcdbde2d9184"
      },
      "execution_count": null,
      "outputs": [
        {
          "output_type": "stream",
          "name": "stdout",
          "text": [
            "0   0   0   0   0   0   0   0   0   0   0   0   0   0   0   0   0   0   0   0   0   0   0   0   0   0   0   0   \n",
            "0   0   0   0   0   0   0   0   0   0   0   0   0   0   0   0   0   0   0   0   0   0   0   0   0   0   0   0   \n",
            "0   0   0   0   0   0   0   0   0   0   0   0   0   0   0   0   0   0   0   0   0   0   0   0   0   0   0   0   \n",
            "0   0   0   0   0   0   0   0   0   0   0   0   0   0   0   0   0   0   0   0   0   0   0   0   0   0   0   0   \n",
            "0   0   0   0   0   0   0   0   0   0   0   0   0   0   0   0   0   0   0   0   0   0   0   0   0   0   0   0   \n",
            "0   0   0   0   0   0   0   0   0   0   0   0   3   18  18  18  126 136 175 26  166 255 247 127 0   0   0   0   \n",
            "0   0   0   0   0   0   0   0   30  36  94  154 170 253 253 253 253 253 225 172 253 242 195 64  0   0   0   0   \n",
            "0   0   0   0   0   0   0   49  238 253 253 253 253 253 253 253 253 251 93  82  82  56  39  0   0   0   0   0   \n",
            "0   0   0   0   0   0   0   18  219 253 253 253 253 253 198 182 247 241 0   0   0   0   0   0   0   0   0   0   \n",
            "0   0   0   0   0   0   0   0   80  156 107 253 253 205 11  0   43  154 0   0   0   0   0   0   0   0   0   0   \n",
            "0   0   0   0   0   0   0   0   0   14  1   154 253 90  0   0   0   0   0   0   0   0   0   0   0   0   0   0   \n",
            "0   0   0   0   0   0   0   0   0   0   0   139 253 190 2   0   0   0   0   0   0   0   0   0   0   0   0   0   \n",
            "0   0   0   0   0   0   0   0   0   0   0   11  190 253 70  0   0   0   0   0   0   0   0   0   0   0   0   0   \n",
            "0   0   0   0   0   0   0   0   0   0   0   0   35  241 225 160 108 1   0   0   0   0   0   0   0   0   0   0   \n",
            "0   0   0   0   0   0   0   0   0   0   0   0   0   81  240 253 253 119 25  0   0   0   0   0   0   0   0   0   \n",
            "0   0   0   0   0   0   0   0   0   0   0   0   0   0   45  186 253 253 150 27  0   0   0   0   0   0   0   0   \n",
            "0   0   0   0   0   0   0   0   0   0   0   0   0   0   0   16  93  252 253 187 0   0   0   0   0   0   0   0   \n",
            "0   0   0   0   0   0   0   0   0   0   0   0   0   0   0   0   0   249 253 249 64  0   0   0   0   0   0   0   \n",
            "0   0   0   0   0   0   0   0   0   0   0   0   0   0   46  130 183 253 253 207 2   0   0   0   0   0   0   0   \n",
            "0   0   0   0   0   0   0   0   0   0   0   0   39  148 229 253 253 253 250 182 0   0   0   0   0   0   0   0   \n",
            "0   0   0   0   0   0   0   0   0   0   24  114 221 253 253 253 253 201 78  0   0   0   0   0   0   0   0   0   \n",
            "0   0   0   0   0   0   0   0   23  66  213 253 253 253 253 198 81  2   0   0   0   0   0   0   0   0   0   0   \n",
            "0   0   0   0   0   0   18  171 219 253 253 253 253 195 80  9   0   0   0   0   0   0   0   0   0   0   0   0   \n",
            "0   0   0   0   55  172 226 253 253 253 253 244 133 11  0   0   0   0   0   0   0   0   0   0   0   0   0   0   \n",
            "0   0   0   0   136 253 253 253 212 135 132 16  0   0   0   0   0   0   0   0   0   0   0   0   0   0   0   0   \n",
            "0   0   0   0   0   0   0   0   0   0   0   0   0   0   0   0   0   0   0   0   0   0   0   0   0   0   0   0   \n",
            "0   0   0   0   0   0   0   0   0   0   0   0   0   0   0   0   0   0   0   0   0   0   0   0   0   0   0   0   \n",
            "0   0   0   0   0   0   0   0   0   0   0   0   0   0   0   0   0   0   0   0   0   0   0   0   0   0   0   0   \n"
          ]
        }
      ]
    },
    {
      "cell_type": "markdown",
      "source": [
        "이렇게 이미지는 숫자의 집합으로 바뀌어 학습 데이터셋으로 사용됩니다. 우리가 앞서 배운 여러 예제와 마찬가지로 속성을 담은 데이터 모델에 집어 넣고 클래스를 예측하는 문제로 귀결되는 것입니다. 28x28=784개의 속성을 이용해 0\\~9의 클래스 열 개중 하나를 맞추는 문제가 됩니다. \n",
        "\n",
        "이제 주어진 가로 28 세로 28의 2차월 배열을 1차원 배열로 바꾸어주어야 합니다. 이를 위해 ```reshape()```함수를 사용합니다. \n",
        "\n",
        "reshape(총 샘플 수, 1차원 속성의 개수) 형식으로 지정합니다. 총 샘플 수는 앞서 사용한 X_train.shape[0]을 이용하고 1차원 속성의 개수는 이미 살펴 본 대로 784입니다.\n",
        "```\n",
        "X_train=X_train.reshape(X_train.shape[0], 784)\n",
        "```\n",
        "\n"
      ],
      "metadata": {
        "id": "GzVLZ2EjS2P2"
      }
    },
    {
      "cell_type": "markdown",
      "source": [
        "케라스는 데이터를 0에서 1 사이의 값으로 변환 후 구동할 때 최적의 성능을 보입니다. 따라서 현재 0\\~255 사이의 수로 표현되는 픽셀의 값을 0\\~1 사이의 값으로 바꿔야 합니다. 바꾸는 방법은 각 픽셀의 값을 255로 나누면 됩니다. 이러한 과정, 0~1사이의 값으로 바꾸는 과정을 '정규화(normalization)'라고 합니다. 정규화에 앞서 데이터형을 실수로 빠꾼 후 정규화 합니다.   \n",
        "\n",
        "```\n",
        "X_train = X_train.astype('float64')\n",
        "X_train = X_train / 255\n",
        "```\n",
        "\n",
        "X_test에 대해서도 위와 같은 이유에서 동일한 작업을 수행합니다.\n",
        "```\n",
        "X_test = X_text.reshape(X_test.shape[0], 784).astype('flat64')/255\n",
        "```  \n",
        "이제 숫자 이미지에 대해 붙여진 이름(클래스, 레이블)을 확인해 보겠습니다. 우리는 앞서 불러온 숫자 이미지가 5라는 것을 눈으로 보아 알 수 있었습니다. 실제로 이 숫자의 레이블이 어떤지 불어오고자 합니다.\n",
        "\n"
      ],
      "metadata": {
        "id": "a3XXRTohVatw"
      }
    },
    {
      "cell_type": "code",
      "source": [
        "print('class(label) :', y_train[0])"
      ],
      "metadata": {
        "colab": {
          "base_uri": "https://localhost:8080/"
        },
        "id": "4rMGgkIhSWWD",
        "outputId": "2bf7eb8f-f424-43c8-f2a9-ccf2b1e5abcd"
      },
      "execution_count": null,
      "outputs": [
        {
          "output_type": "stream",
          "name": "stdout",
          "text": [
            "class(label) : 5\n"
          ]
        }
      ]
    },
    {
      "cell_type": "markdown",
      "source": [
        "그런데 12장에서 아이리스 품종을 예측할 때 딥러닝의 분류 문제를 해결하려면 원-핫 인코딩 방식을 적용해야 한다고 배웠습니다. 즉, 0\\~9의 정수형 값을 갖는 현재 형태에서 0 또는 1로만 이루어진 값으로 수정해야 합니다.   \n",
        "지금 우리가 본 이미지의 클래스(레이블)은 5였습니다. 이를 [0, 0, 0, 0, 0, 1, 0, 0, 0, 0]으로 바꿔야 합ㄴ니다. 이를 가능하게 해주는 함수가 ```np_utils.to_categorical()```함수입닌다. ```to_categorical(클래스, 그래스의 개수)```형식으로 지정합니다.\n",
        "\n",
        "```\n",
        "y_train = to_categorical(y_train, 10)\n",
        "y_test = to_categorical(y_test, 10)\n",
        "```"
      ],
      "metadata": {
        "id": "-IjnAbssXZ5p"
      }
    },
    {
      "cell_type": "code",
      "source": [
        "from tensorflow.keras.utils import to_categorical\n",
        "\n",
        "print(y_train[0])\n",
        "y_train = to_categorical(y_train, 10)\n",
        "print(y_train[0])"
      ],
      "metadata": {
        "colab": {
          "base_uri": "https://localhost:8080/"
        },
        "id": "omIPk65MYwqB",
        "outputId": "d19005a7-c8a2-4991-f6a2-9372d79b2356"
      },
      "execution_count": null,
      "outputs": [
        {
          "output_type": "stream",
          "name": "stdout",
          "text": [
            "5\n",
            "[0. 0. 0. 0. 0. 1. 0. 0. 0. 0.]\n"
          ]
        }
      ]
    },
    {
      "cell_type": "markdown",
      "source": [
        "지금까지 이야기한 내용과 관련된 코드를 아래 모았습니다."
      ],
      "metadata": {
        "id": "kIKxmraBQzTp"
      }
    },
    {
      "cell_type": "code",
      "execution_count": null,
      "metadata": {
        "id": "VfsapogMHps0",
        "outputId": "5bc15361-7c73-4c62-f2ec-d563fac13415"
      },
      "outputs": [
        {
          "name": "stdout",
          "output_type": "stream",
          "text": [
            "Downloading data from https://storage.googleapis.com/tensorflow/tf-keras-datasets/mnist.npz\n",
            "11493376/11490434 [==============================] - 1s 0us/step\n",
            "11501568/11490434 [==============================] - 1s 0us/step\n",
            "학습셋 이미지 수 : 60000 개\n",
            "테스트셋 이미지 수 : 10000 개\n"
          ]
        }
      ],
      "source": [
        "from tensorflow.keras.datasets import mnist\n",
        "from tensorflow.keras.utils import to_categorical\n",
        "\n",
        "import matplotlib.pyplot as plt\n",
        "import sys\n",
        "\n",
        "# MNIST 데이터셋을 불러와 학습셋과 테스트셋으로 저장합니다. \n",
        "(X_train, y_train), (X_test, y_test) = mnist.load_data()\n",
        "\n",
        "# 학습셋과 테스트셋이 각각 몇 개의 이미지로 되어 있는지 확인합니다. \n",
        "print(\"학습셋 이미지 수 : %d 개\" % (X_train.shape[0]))\n",
        "print(\"테스트셋 이미지 수 : %d 개\" % (X_test.shape[0]))"
      ]
    },
    {
      "cell_type": "code",
      "execution_count": null,
      "metadata": {
        "id": "8S-h0mBBHps2",
        "outputId": "e4531676-4001-4241-8f00-247ef9be3b51"
      },
      "outputs": [
        {
          "data": {
            "image/png": "[encoded data removed]",
            "text/plain": [
              "<Figure size 432x288 with 1 Axes>"
            ]
          },
          "metadata": {
            "needs_background": "light"
          },
          "output_type": "display_data"
        }
      ],
      "source": [
        "# 첫 번째 이미지를 확인해 봅시다.\n",
        "plt.imshow(X_train[0], cmap='Greys')\n",
        "plt.show()"
      ]
    },
    {
      "cell_type": "code",
      "execution_count": null,
      "metadata": {
        "id": "U2p8H9OSHps2",
        "outputId": "ca8e1f28-483e-4054-b6f0-1b9f1765c010"
      },
      "outputs": [
        {
          "name": "stdout",
          "output_type": "stream",
          "text": [
            "0  0  0  0  0  0  0  0  0  0  0  0  0  0  0  0  0  0  0  0  0  0  0  0  0  0  0  0  \n",
            "0  0  0  0  0  0  0  0  0  0  0  0  0  0  0  0  0  0  0  0  0  0  0  0  0  0  0  0  \n",
            "0  0  0  0  0  0  0  0  0  0  0  0  0  0  0  0  0  0  0  0  0  0  0  0  0  0  0  0  \n",
            "0  0  0  0  0  0  0  0  0  0  0  0  0  0  0  0  0  0  0  0  0  0  0  0  0  0  0  0  \n",
            "0  0  0  0  0  0  0  0  0  0  0  0  0  0  0  0  0  0  0  0  0  0  0  0  0  0  0  0  \n",
            "0  0  0  0  0  0  0  0  0  0  0  0  3  18 18 18 12613617526 1662552471270  0  0  0  \n",
            "0  0  0  0  0  0  0  0  30 36 94 15417025325325325325322517225324219564 0  0  0  0  \n",
            "0  0  0  0  0  0  0  49 23825325325325325325325325325193 82 82 56 39 0  0  0  0  0  \n",
            "0  0  0  0  0  0  0  18 2192532532532532531981822472410  0  0  0  0  0  0  0  0  0  \n",
            "0  0  0  0  0  0  0  0  80 15610725325320511 0  43 1540  0  0  0  0  0  0  0  0  0  \n",
            "0  0  0  0  0  0  0  0  0  14 1  15425390 0  0  0  0  0  0  0  0  0  0  0  0  0  0  \n",
            "0  0  0  0  0  0  0  0  0  0  0  1392531902  0  0  0  0  0  0  0  0  0  0  0  0  0  \n",
            "0  0  0  0  0  0  0  0  0  0  0  11 19025370 0  0  0  0  0  0  0  0  0  0  0  0  0  \n",
            "0  0  0  0  0  0  0  0  0  0  0  0  35 2412251601081  0  0  0  0  0  0  0  0  0  0  \n",
            "0  0  0  0  0  0  0  0  0  0  0  0  0  81 24025325311925 0  0  0  0  0  0  0  0  0  \n",
            "0  0  0  0  0  0  0  0  0  0  0  0  0  0  45 18625325315027 0  0  0  0  0  0  0  0  \n",
            "0  0  0  0  0  0  0  0  0  0  0  0  0  0  0  16 93 2522531870  0  0  0  0  0  0  0  \n",
            "0  0  0  0  0  0  0  0  0  0  0  0  0  0  0  0  0  24925324964 0  0  0  0  0  0  0  \n",
            "0  0  0  0  0  0  0  0  0  0  0  0  0  0  46 1301832532532072  0  0  0  0  0  0  0  \n",
            "0  0  0  0  0  0  0  0  0  0  0  0  39 1482292532532532501820  0  0  0  0  0  0  0  \n",
            "0  0  0  0  0  0  0  0  0  0  24 11422125325325325320178 0  0  0  0  0  0  0  0  0  \n",
            "0  0  0  0  0  0  0  0  23 66 21325325325325319881 2  0  0  0  0  0  0  0  0  0  0  \n",
            "0  0  0  0  0  0  18 17121925325325325319580 9  0  0  0  0  0  0  0  0  0  0  0  0  \n",
            "0  0  0  0  55 17222625325325325324413311 0  0  0  0  0  0  0  0  0  0  0  0  0  0  \n",
            "0  0  0  0  13625325325321213513216 0  0  0  0  0  0  0  0  0  0  0  0  0  0  0  0  \n",
            "0  0  0  0  0  0  0  0  0  0  0  0  0  0  0  0  0  0  0  0  0  0  0  0  0  0  0  0  \n",
            "0  0  0  0  0  0  0  0  0  0  0  0  0  0  0  0  0  0  0  0  0  0  0  0  0  0  0  0  \n",
            "0  0  0  0  0  0  0  0  0  0  0  0  0  0  0  0  0  0  0  0  0  0  0  0  0  0  0  0  \n"
          ]
        }
      ],
      "source": [
        "# 이미지가 인식되는 원리를 알아봅시다.\n",
        "for x in X_train[0]:\n",
        "    for i in x:\n",
        "        sys.stdout.write(\"%-3s\" % i)\n",
        "    sys.stdout.write('\\n')"
      ]
    },
    {
      "cell_type": "code",
      "execution_count": null,
      "metadata": {
        "id": "bfMgdLaxHps3",
        "outputId": "914ccdcd-0eae-4153-c727-1824ed0a6867"
      },
      "outputs": [
        {
          "name": "stdout",
          "output_type": "stream",
          "text": [
            "class : 5 \n",
            "[0. 0. 0. 0. 0. 1. 0. 0. 0. 0.]\n"
          ]
        }
      ],
      "source": [
        "# 차원 변환 과정을 실습해 봅니다.\n",
        "X_train = X_train.reshape(X_train.shape[0], 784)\n",
        "X_train = X_train.astype('float64')\n",
        "X_train = X_train / 255\n",
        "\n",
        "X_test = X_test.reshape(X_test.shape[0], 784).astype('float64') / 255\n",
        "\n",
        "# 클래스 값을 확인해 봅니다.\n",
        "print(\"class : %d \" % (y_train[0]))\n",
        "\n",
        "# 바이너리화 과정을 실습해 봅니다.\n",
        "y_train = to_categorical(y_train, 10)\n",
        "y_test = to_categorical(y_test, 10)\n",
        "\n",
        "print(y_train[0])"
      ]
    },
    {
      "cell_type": "markdown",
      "metadata": {
        "id": "czn3_m_KHps4"
      },
      "source": [
        "## 2. 딥러닝 기본 프레임 만들기 \n",
        "모델 구조를 정하고 모델을 커파일 하는 단계로 넘어가겠습니다. \n",
        "\n",
        "총 784개의 속성이 있고 열 개의 클래스(레이블)가 있습니다. 그래서 다음과 같이 모델을 생성합니다."
      ]
    },
    {
      "cell_type": "code",
      "execution_count": null,
      "metadata": {
        "id": "7L9ig9toHps5"
      },
      "outputs": [],
      "source": [
        "from tensorflow.keras.models import Sequential\n",
        "from tensorflow.keras.layers import Dense\n",
        "from tensorflow.keras.callbacks import ModelCheckpoint,EarlyStopping\n",
        "from tensorflow.keras.datasets import mnist\n",
        "from tensorflow.keras.utils import to_categorical\n",
        "\n",
        "import matplotlib.pyplot as plt\n",
        "import numpy as np\n",
        "import os\n",
        "\n",
        "# MNIST 데이터를 불러옵니다. \n",
        "(X_train, y_train), (X_test, y_test) = mnist.load_data()\n",
        "\n",
        "# 차원 변환 후, 테스트셋과 학습셋으로 나누어 줍니다.\n",
        "X_train = X_train.reshape(X_train.shape[0], 784).astype('float32') / 255\n",
        "X_test = X_test.reshape(X_test.shape[0], 784).astype('float32') / 255\n",
        "\n",
        "y_train = to_categorical(y_train, 10)\n",
        "y_test = to_categorical(y_test, 10)"
      ]
    },
    {
      "cell_type": "markdown",
      "source": [
        "#### [과제]\n",
        "과제 - 본 실습을 위해 모델 구조를 다음과 같이 제안합니다.\n",
        "* 은닉층 1개로 구성\n",
        "* 은닉층의 노드 개수는 512개\n",
        "* 은닉층의 활성화 함수는 relu\n",
        "* 출력측의 활성화 함수는 softmax\n",
        "가 되도록 코딩하십시요."
      ],
      "metadata": {
        "id": "8kLMGM-1cza4"
      }
    },
    {
      "cell_type": "code",
      "source": [
        "# 모델 구조를 설정합니다.\n",
        "model = Sequential()\n",
        "model.add(Dense(512, input_dim=784, activation='relu'))\n",
        "model.add(Dense(10, activation='softmax'))\n",
        "model.summary()"
      ],
      "metadata": {
        "colab": {
          "base_uri": "https://localhost:8080/"
        },
        "id": "-S8CWVg5cvmx",
        "outputId": "480bb719-9511-4eb1-c914-cf174fa6b259"
      },
      "execution_count": null,
      "outputs": [
        {
          "output_type": "stream",
          "name": "stdout",
          "text": [
            "Model: \"sequential_2\"\n",
            "_________________________________________________________________\n",
            " Layer (type)                Output Shape              Param #   \n",
            "=================================================================\n",
            " dense_4 (Dense)             (None, 512)               401920    \n",
            "                                                                 \n",
            " dense_5 (Dense)             (None, 10)                5130      \n",
            "                                                                 \n",
            "=================================================================\n",
            "Total params: 407,050\n",
            "Trainable params: 407,050\n",
            "Non-trainable params: 0\n",
            "_________________________________________________________________\n"
          ]
        }
      ]
    },
    {
      "cell_type": "markdown",
      "source": [
        "#### [과제] \n",
        "과제 - 모델 실행 환경을 위한 설정을 다음과 같이 제안합니다.\n",
        "* 다중 분류 상황이기 때문에 손실 함수(loss function)는 categorical_crossentropy\n",
        "* 옵티마이저는 adam"
      ],
      "metadata": {
        "id": "Vwx9HzsmdWig"
      }
    },
    {
      "cell_type": "code",
      "execution_count": null,
      "metadata": {
        "id": "dem7CMEoHps5"
      },
      "outputs": [],
      "source": [
        "# 모델 실행 환경을 설정합니다.\n",
        "model.compile(loss='categorical_crossentropy', optimizer='adam', metrics=['accuracy'])"
      ]
    },
    {
      "cell_type": "code",
      "source": [
        "\n",
        "# 모델 최적화를 위한 설정 구간입니다.\n",
        "modelpath=\"./MNIST_MLP.hdf5\"\n",
        "checkpointer = ModelCheckpoint(filepath=modelpath, monitor='val_loss', verbose=1, save_best_only=True)\n",
        "early_stopping_callback = EarlyStopping(monitor='val_loss', patience=10)\n",
        "\n",
        "# 모델을 실행합니다.\n",
        "history = model.fit(X_train, y_train, validation_split=0.25, epochs=30, batch_size=200, verbose=0, callbacks=[early_stopping_callback,checkpointer])\n",
        "\n",
        "# 테스트 정확도를 출력합니다.\n",
        "print(\"\\n Test Accuracy: %.4f\" % (model.evaluate(X_test, y_test)[1]))"
      ],
      "metadata": {
        "colab": {
          "base_uri": "https://localhost:8080/"
        },
        "id": "uClaf8hoeBis",
        "outputId": "6588d0f2-8fb4-4b7f-8ac8-d255b2079831"
      },
      "execution_count": null,
      "outputs": [
        {
          "output_type": "stream",
          "name": "stdout",
          "text": [
            "\n",
            "Epoch 1: val_loss improved from inf to 0.18336, saving model to ./MNIST_MLP.hdf5\n",
            "\n",
            "Epoch 2: val_loss improved from 0.18336 to 0.13463, saving model to ./MNIST_MLP.hdf5\n",
            "\n",
            "Epoch 3: val_loss improved from 0.13463 to 0.11727, saving model to ./MNIST_MLP.hdf5\n",
            "\n",
            "Epoch 4: val_loss improved from 0.11727 to 0.09638, saving model to ./MNIST_MLP.hdf5\n",
            "\n",
            "Epoch 5: val_loss improved from 0.09638 to 0.09213, saving model to ./MNIST_MLP.hdf5\n",
            "\n",
            "Epoch 6: val_loss did not improve from 0.09213\n",
            "\n",
            "Epoch 7: val_loss improved from 0.09213 to 0.08812, saving model to ./MNIST_MLP.hdf5\n",
            "\n",
            "Epoch 8: val_loss improved from 0.08812 to 0.08243, saving model to ./MNIST_MLP.hdf5\n",
            "\n",
            "Epoch 9: val_loss improved from 0.08243 to 0.07986, saving model to ./MNIST_MLP.hdf5\n",
            "\n",
            "Epoch 10: val_loss did not improve from 0.07986\n",
            "\n",
            "Epoch 11: val_loss did not improve from 0.07986\n",
            "\n",
            "Epoch 12: val_loss did not improve from 0.07986\n",
            "\n",
            "Epoch 13: val_loss did not improve from 0.07986\n",
            "\n",
            "Epoch 14: val_loss did not improve from 0.07986\n",
            "\n",
            "Epoch 15: val_loss did not improve from 0.07986\n",
            "\n",
            "Epoch 16: val_loss did not improve from 0.07986\n",
            "\n",
            "Epoch 17: val_loss did not improve from 0.07986\n",
            "\n",
            "Epoch 18: val_loss did not improve from 0.07986\n",
            "\n",
            "Epoch 19: val_loss did not improve from 0.07986\n",
            "313/313 [==============================] - 2s 4ms/step - loss: 0.0699 - accuracy: 0.9808\n",
            "\n",
            " Test Accuracy: 0.9808\n"
          ]
        }
      ]
    },
    {
      "cell_type": "markdown",
      "source": [
        "**실행 결과를 그래프로 표현**해보려고 합니다. 역시 14장에서 실습한 내용과 크게 다르지 않습니다. 다만 이번에는 학습 데이터셋의 정확도 대신 학습 데이터셋의 오차를 그래프로 표현하겠습니다. 학습 데이터셋의 오차는 1에서 학습 데이터셋에 대한 정확도를 뺀 값입니다. 좀 더 세밀한 변화를 볼 수 있도록 학습 데이터셋 오차와 테스테 데이터셋의 오차를 그래프 하나에 나타내겠습니다."
      ],
      "metadata": {
        "id": "HEjWaZ_OegAV"
      }
    },
    {
      "cell_type": "code",
      "execution_count": null,
      "metadata": {
        "id": "QFTv0dfNHps6",
        "outputId": "c0ed3c0a-54a9-4271-c698-4319d3b7541a",
        "colab": {
          "base_uri": "https://localhost:8080/",
          "height": 279
        }
      },
      "outputs": [
        {
          "output_type": "display_data",
          "data": {
            "text/plain": [
              "<Figure size 432x288 with 1 Axes>"
            ],
            "image/png": "[encoded data removed]"
          },
          "metadata": {
            "needs_background": "light"
          }
        }
      ],
      "source": [
        "# 검증(validation) 데이터셋과 학습 데이터셋의 오차를 저장합니다. \n",
        "# 실제 값이 검증 데이터셋과 예측 값 사이의 차이\n",
        "# 실제 값인 학습 데이터셋과 예측 값 사이의 차이\n",
        "\n",
        "y_vloss = history.history['val_loss']\n",
        "y_loss = history.history['loss']\n",
        "\n",
        "# 그래프로 표현해 봅니다.\n",
        "x_len = np.arange(len(y_loss))\n",
        "plt.plot(x_len, y_vloss, marker='.', c=\"red\", label='Validset_loss')\n",
        "plt.plot(x_len, y_loss, marker='.', c=\"blue\", label='Trainset_loss')\n",
        "\n",
        "# 그래프에 그리드를 주고 레이블을 표시해 보겠습니다.\n",
        "plt.legend(loc='upper right')\n",
        "plt.grid()\n",
        "plt.xlabel('epoch')\n",
        "plt.ylabel('loss')\n",
        "plt.show()"
      ]
    },
    {
      "cell_type": "markdown",
      "source": [
        "epoch가 19(?)에서 갱신(모델업데이트 과정)을 멈췄습니다. 갱신 과정(다음 에포크)을 더 진행했다면 학습 데이터셋에 대한 오차는 줄어 들 수 있으나 검증 데이터셋의 더 이상 작아지지 않고 학습 데이터셋에 대한 과적합(overfit)으로 오히려 검증 데이터에 대한 에러가 커질 수 있습니다.  "
      ],
      "metadata": {
        "id": "ht9OrX3ggSWb"
      }
    },
    {
      "cell_type": "markdown",
      "source": [
        "앞서 높은 정확도를 보였던 딥러닝 모델은 하나의 은닉층을 두 아주 단순한 모델입니다. 이를 도식화 하면 그림 16-5와 같습니다.  \n",
        "<br><center>\n",
        "<img src=\"https://drive.google.com/uc?id=12E2tAvpsXXYEb__X9LYuKkS1iGZV3j-n\" width=200>.................\n",
        "<img src=\"https://drive.google.com/uc?id=11x6By8NmA3K-B_D6N5Vev1tqYKPpy7LC\" width=400>\n",
        "</center><br>\n",
        "\n",
        "딥러닝은 이러한 기본 모델을 바탕으로 프로젝트에 맞추어 어떤 옵션을 더하고 어떤 층을 추가하느냐에 따라 성능이 좋아질 수 있습니다. 지금부터 기본 딥러닝 모델에 이미지 인식 분야에 강력한 성능을 보이는 컨볼류션 신경망(CNN)을 추가해 보겠습니다.\n",
        "\n",
        "# 아래 내용은 조금 더 익숙해진 이후에 학습하는 것으로...\n",
        "\n",
        "\n",
        "\n",
        "\n"
      ],
      "metadata": {
        "id": "ML0tr6mkhYWk"
      }
    },
    {
      "cell_type": "markdown",
      "metadata": {
        "id": "SqupvrChHps6"
      },
      "source": [
        "## 3. 컨볼루션 신경망\n",
        "\n",
        "**컨볼루션 신경망(Convolutional Neural Network)은 입력된 이미지에서 다시 한 번 특징을 추출하기 위해 커널(슬라이딩 원도우)를 도입하는 기법입니다.** 예를 들어 입력된 이미지가 다음과 같은 값을 가지고 있다고 가정하겠습니다.\n",
        "<br><center>\n",
        "<img src=\"https://drive.google.com/uc?id=1kmkb3v9yT9zhjpNDExlEiU5KodZ9uPYg\" width=200>\n",
        "</center><br>\n",
        "\n",
        "여기에 2x2 커널을 준비합니다. 각 칸에는 가중치가 들어 있습니다. 샘플 가중치를 다음과 같이 x1, x0이라고 하겠습니다. \n",
        "<br><center>\n",
        "<img src=\"https://drive.google.com/uc?id=1MjjrQVgD3FOb0tDn4uuCnum6GGaFp8R1\" width=100>\n",
        "</center><br>  \n",
        "이제 이 커널을 이미지 맨 왼쪽 윗칸에 적용시켜 보겠습니다. \n",
        "\n",
        "<br><center>\n",
        "<img src=\"https://drive.google.com/uc?id=1RDiYx3pu4cll4uoh57ptH12bBx8lJrbC\" width=200>\n",
        "</center><br>  \n",
        "적용된 부분은 원래 있던 이미지 값에 가중치의 값을 곱해서 각각의 값을 합산해 새로운 값을 생성합니다.  \n",
        "$$(1\\times1) + (0\\times0) +(0\\times0) + (1\\times1)=2$$  \n",
        "\n",
        "이 커널을 한 칸씩 옮겨 모두 적용해 보겠습니다. \n",
        "<br><center>\n",
        "<img src=\"https://drive.google.com/uc?id=1ukY_jnDI-Isg0q7mW3mIf2SokQQs3mB0\" width=400><br>\n",
        "<img src=\"https://drive.google.com/uc?id=1NrxBhRRLIc3dW1ZYr2kL8zPIjIwp2uf9\" width=400><br>\n",
        "<img src=\"https://drive.google.com/uc?id=1tibqQCTOeRD7xyG66YmzVYBvAK8VMcnK\" width=400>\n",
        "</center><br>\n",
        "위 결과를 정리하면 다음과 같습니다.\n",
        "\n",
        "<br><center>\n",
        "<img src=\"https://drive.google.com/uc?id=1O1cBeGghvfegnNCacKAN8IK1Vf9KL57V\" width=200>\n",
        "</center><br>  \n",
        "\n",
        "이렇게 해서 새롭게 만들어진 층을 컨볼루션(합성곱) 층이라고 합니다. 컨볼루션 층을 만들려면 입력 데이터가 가진 특성을 대략적으로 추출해서 학습을 진행할 수 있습니다. 이러한 커널을 여러 개 만들 경우 여러 개의 컨볼루션 층이 만들어집니다.   \n",
        "\n",
        "[그림](https://thebook.io/080324/part05/ch16/03-03/)\n",
        "\n",
        "케라스에서 컨볼루션 층을 추가하는 함수는 ```Conv2D()```입니다. 다음과 같이 컨볼루션 층을 적용해 MNIST 손글씨 인식률을 높여 봅시다. \n",
        "\n",
        "```\n",
        "model.add(Conv2D(32, kernel_size=(3,3), input_shape=(28,28,1), activation='relu'))\n",
        "```"
      ]
    },
    {
      "cell_type": "markdown",
      "source": [
        "```Conv2D()```에 전달되는 네 가지 인자는 다음과 같습니다. \n",
        "- 첫번재 인자: 커널을 몇 개 적용할지 결정. 여기서는 32개의 커널을 적용했음.\n",
        "- kernel_size: 커널의 크기. ```kernel_size(행, 열)``` 형식으로 지정. 여기서는 3 $\\times$ 3  \n",
        "- input_shape: Dense 층과 마찬가지로 맨 처음 층에는 입력되는 값의 형태 등을 알려주야 함. ```input_shape=(행, 열, 색상타입)``` 형식으로 정합니다. 컬러이미지면 색상타입은 3이고 흑백이면 1입니다. 여기서는 28 $\\times$28 크기의 흑백 이미지를 사용한다고 지정했음.\n",
        "- activation: 사용할 활성화 함수.\n",
        "\n",
        "이어서 컨벌루션 층을 하나 더 추가해 보겠습니다. 다음과 같이 커널 수는 64개, 커널의 크기는 3 $\\times$ 3으로 지정하고 활성화 함수로 렐루를 사용하는 컨볼루션 층을 추가합니다. \n",
        "\n",
        "```\n",
        "model.add(Conv2D(64, (3, 3), activation='relu'))\n",
        "```\n",
        "<br><center>\n",
        "<img src=\"https://drive.google.com/uc?id=11x6By8NmA3K-B_D6N5Vev1tqYKPpy7LC\" width=500>\n",
        "</center><br>\n"
      ],
      "metadata": {
        "id": "flTVuW4KvC6I"
      }
    },
    {
      "cell_type": "markdown",
      "source": [
        "## 4. 맥스 폴링, 드롭아웃, 플래트\n"
      ],
      "metadata": {
        "id": "HaGyOR6qzjjz"
      }
    },
    {
      "cell_type": "code",
      "execution_count": null,
      "metadata": {
        "id": "aJa-27qAHps7",
        "outputId": "14e26380-ba46-4e27-9913-bdab4f17a80e"
      },
      "outputs": [
        {
          "name": "stdout",
          "output_type": "stream",
          "text": [
            "\n",
            "Epoch 00001: val_loss improved from inf to 0.08178, saving model to ../data/model\\MNIST_CNN.hdf5\n",
            "\n",
            "Epoch 00002: val_loss improved from 0.08178 to 0.05578, saving model to ../data/model\\MNIST_CNN.hdf5\n",
            "\n",
            "Epoch 00003: val_loss improved from 0.05578 to 0.04809, saving model to ../data/model\\MNIST_CNN.hdf5\n",
            "\n",
            "Epoch 00004: val_loss improved from 0.04809 to 0.04628, saving model to ../data/model\\MNIST_CNN.hdf5\n",
            "\n",
            "Epoch 00005: val_loss improved from 0.04628 to 0.04344, saving model to ../data/model\\MNIST_CNN.hdf5\n",
            "\n",
            "Epoch 00006: val_loss did not improve from 0.04344\n",
            "\n",
            "Epoch 00007: val_loss improved from 0.04344 to 0.04101, saving model to ../data/model\\MNIST_CNN.hdf5\n",
            "\n",
            "Epoch 00008: val_loss improved from 0.04101 to 0.03858, saving model to ../data/model\\MNIST_CNN.hdf5\n",
            "\n",
            "Epoch 00009: val_loss did not improve from 0.03858\n",
            "\n",
            "Epoch 00010: val_loss did not improve from 0.03858\n",
            "\n",
            "Epoch 00011: val_loss did not improve from 0.03858\n",
            "\n",
            "Epoch 00012: val_loss did not improve from 0.03858\n",
            "\n",
            "Epoch 00013: val_loss improved from 0.03858 to 0.03742, saving model to ../data/model\\MNIST_CNN.hdf5\n",
            "\n",
            "Epoch 00014: val_loss did not improve from 0.03742\n",
            "\n",
            "Epoch 00015: val_loss did not improve from 0.03742\n",
            "\n",
            "Epoch 00016: val_loss did not improve from 0.03742\n",
            "\n",
            "Epoch 00017: val_loss did not improve from 0.03742\n",
            "\n",
            "Epoch 00018: val_loss did not improve from 0.03742\n",
            "\n",
            "Epoch 00019: val_loss did not improve from 0.03742\n",
            "\n",
            "Epoch 00020: val_loss did not improve from 0.03742\n",
            "\n",
            "Epoch 00021: val_loss did not improve from 0.03742\n",
            "\n",
            "Epoch 00022: val_loss did not improve from 0.03742\n",
            "\n",
            "Epoch 00023: val_loss did not improve from 0.03742\n",
            "313/313 [==============================] - 2s 6ms/step - loss: 0.0341 - accuracy: 0.9917\n",
            "\n",
            " Test Accuracy: 0.9917\n"
          ]
        }
      ],
      "source": [
        "from tensorflow.keras.models import Sequential\n",
        "from tensorflow.keras.layers import Dense, Dropout, Flatten, Conv2D, MaxPooling2D\n",
        "from tensorflow.keras.callbacks import ModelCheckpoint,EarlyStopping\n",
        "from tensorflow.keras.datasets import mnist\n",
        "from tensorflow.keras.utils import to_categorical\n",
        "\n",
        "import matplotlib.pyplot as plt\n",
        "import numpy as np\n",
        "\n",
        "# 데이터를 불러옵니다.\n",
        "(X_train, y_train), (X_test, y_test) = mnist.load_data()\n",
        "X_train = X_train.reshape(X_train.shape[0], 28, 28, 1).astype('float32') / 255\n",
        "X_test = X_test.reshape(X_test.shape[0], 28, 28, 1).astype('float32') / 255\n",
        "y_train = to_categorical(y_train)\n",
        "y_test = to_categorical(y_test)\n",
        "\n",
        "# 컨볼루션 신경망의 설정\n",
        "model = Sequential()\n",
        "\n",
        "model.add(Conv2D(32, kernel_size=(3, 3), input_shape=(28, 28, 1), activation='relu'))\n",
        "model.add(Conv2D(64, (3, 3), activation='relu'))\n",
        "\n",
        "model.add(MaxPooling2D(pool_size=(2,2)))\n",
        "model.add(Dropout(0.25))\n",
        "model.add(Flatten())\n",
        "\n",
        "model.add(Dense(128,  activation='relu'))\n",
        "model.add(Dropout(0.5))\n",
        "model.add(Dense(10, activation='softmax'))\n",
        "\n",
        "# 모델의 실행 옵션을 설정합니다.\n",
        "model.compile(loss='categorical_crossentropy',\n",
        "              optimizer='adam',\n",
        "              metrics=['accuracy'])\n",
        "\n",
        "# 모델 최적화를 위한 설정 구간입니다.\n",
        "modelpath=\"./MNIST_CNN.hdf5\"\n",
        "checkpointer = ModelCheckpoint(filepath=modelpath, monitor='val_loss', verbose=1, save_best_only=True)\n",
        "early_stopping_callback = EarlyStopping(monitor='val_loss', patience=10)\n",
        "\n",
        "# 모델을 실행합니다.\n",
        "history = model.fit(X_train, y_train, validation_split=0.25, epochs=30, batch_size=200, verbose=0, callbacks=[early_stopping_callback,checkpointer])\n",
        "\n",
        "# 테스트 정확도를 출력합니다.\n",
        "print(\"\\n Test Accuracy: %.4f\" % (model.evaluate(X_test, y_test)[1]))"
      ]
    },
    {
      "cell_type": "code",
      "execution_count": null,
      "metadata": {
        "id": "pCGvCLddHps7",
        "outputId": "af90dc68-94cb-4aed-b5dc-0aaeaf75941f"
      },
      "outputs": [
        {
          "data": {
            "image/png": "[encoded data removed]",
            "text/plain": [
              "<Figure size 432x288 with 1 Axes>"
            ]
          },
          "metadata": {
            "needs_background": "light"
          },
          "output_type": "display_data"
        }
      ],
      "source": [
        "# 검증셋과 학습셋의 오차를 저장합니다.\n",
        "y_vloss = history.history['val_loss']\n",
        "y_loss = history.history['loss']\n",
        "\n",
        "# 그래프로 표현해 봅니다.\n",
        "x_len = np.arange(len(y_loss))\n",
        "plt.plot(x_len, y_vloss, marker='.', c=\"red\", label='Testset_loss')\n",
        "plt.plot(x_len, y_loss, marker='.', c=\"blue\", label='Trainset_loss')\n",
        "\n",
        "# 그래프에 그리드를 주고 레이블을 표시하겠습니다.\n",
        "plt.legend(loc='upper right')\n",
        "plt.grid()\n",
        "plt.xlabel('epoch')\n",
        "plt.ylabel('loss')\n",
        "plt.show()"
      ]
    },
    {
      "cell_type": "code",
      "execution_count": null,
      "metadata": {
        "id": "5Z-OGf7sHps8"
      },
      "outputs": [],
      "source": []
    }
  ],
  "metadata": {
    "colab": {
      "collapsed_sections": [],
      "provenance": []
    },
    "kernelspec": {
      "display_name": "Python 3 (ipykernel)",
      "language": "python",
      "name": "python3"
    },
    "language_info": {
      "codemirror_mode": {
        "name": "ipython",
        "version": 3
      },
      "file_extension": ".py",
      "mimetype": "text/x-python",
      "name": "python",
      "nbconvert_exporter": "python",
      "pygments_lexer": "ipython3",
      "version": "3.9.7"
    },
    "accelerator": "GPU"
  },
  "nbformat": 4,
  "nbformat_minor": 0
}