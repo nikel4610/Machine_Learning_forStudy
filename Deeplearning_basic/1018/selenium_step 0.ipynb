{
 "cells": [
  {
   "cell_type": "markdown",
   "id": "7a7fb97e",
   "metadata": {},
   "source": [
    "# Selenium"
   ]
  },
  {
   "cell_type": "code",
   "execution_count": null,
   "id": "94975d61",
   "metadata": {},
   "outputs": [],
   "source": [
    "!pip install selenium"
   ]
  },
  {
   "cell_type": "markdown",
   "id": "d2d07349",
   "metadata": {},
   "source": [
    "## Naver에서 간단한 테스트"
   ]
  },
  {
   "cell_type": "code",
   "execution_count": 1,
   "id": "6b552cd7",
   "metadata": {
    "scrolled": true
   },
   "outputs": [
    {
     "name": "stderr",
     "output_type": "stream",
     "text": [
      "C:\\Users\\user\\AppData\\Local\\Temp\\ipykernel_7004\\1884632579.py:2: DeprecationWarning: executable_path has been deprecated, please pass in a Service object\n",
      "  driver = wd.Chrome(executable_path='chromedriver.exe')\n"
     ]
    }
   ],
   "source": [
    "from selenium import webdriver as wd\n",
    "driver = wd.Chrome(executable_path='chromedriver.exe')"
   ]
  },
  {
   "cell_type": "markdown",
   "id": "ae19aa59",
   "metadata": {},
   "source": [
    "특정 서버에 접속"
   ]
  },
  {
   "cell_type": "code",
   "execution_count": 2,
   "id": "9e65d070",
   "metadata": {},
   "outputs": [],
   "source": [
    "url = 'http://www.naver.com'\n",
    "driver.get(url)"
   ]
  },
  {
   "cell_type": "markdown",
   "id": "6baedee6",
   "metadata": {},
   "source": [
    "특정 요소에 접근하는 find_element() 함수 사용  \n",
    "접근 방법\n",
    "- id\n",
    "에 의한 사용 예부터 보겠습니다."
   ]
  },
  {
   "cell_type": "code",
   "execution_count": 3,
   "id": "4f3db3af",
   "metadata": {},
   "outputs": [],
   "source": [
    "from selenium.webdriver.common.by import By\n",
    "\n",
    "element = driver.find_element(By.ID, 'query')\n",
    "element.send_keys('도루코 면도기')"
   ]
  },
  {
   "cell_type": "code",
   "execution_count": 4,
   "id": "818df4ae",
   "metadata": {},
   "outputs": [],
   "source": [
    "element = driver.find_element(By.ID, 'search_btn')\n",
    "element.click()"
   ]
  },
  {
   "cell_type": "markdown",
   "id": "1b239418",
   "metadata": {},
   "source": [
    "```python\n",
    "find_element()\n",
    "```\n",
    "접근 방버에 따른 ```find_element()``` 함수의 다양한 사용 예  \n",
    "\n",
    "```\n",
    "find_element(By.ID, 'id')  \n",
    "find_element(By.CLASS_NAME, 'name')\n",
    "```\n",
    "\n"
   ]
  },
  {
   "cell_type": "markdown",
   "id": "ec3d2e94",
   "metadata": {},
   "source": [
    "## 인터파크에서 정보 가져오기"
   ]
  },
  {
   "cell_type": "code",
   "execution_count": 7,
   "id": "2bc4736c",
   "metadata": {},
   "outputs": [
    {
     "name": "stderr",
     "output_type": "stream",
     "text": [
      "C:\\Users\\phiri\\AppData\\Local\\Temp\\ipykernel_11860\\3254383003.py:5: DeprecationWarning: executable_path has been deprecated, please pass in a Service object\n",
      "  driver = wd.Chrome(executable_path='chromedriver.exe')\n"
     ]
    }
   ],
   "source": [
    "from selenium import webdriver as wd\n",
    "url = 'http://tour.interpark.com'\n",
    "\n",
    "# 크롬 드라이브 로드\n",
    "driver = wd.Chrome(executable_path='chromedriver.exe')\n",
    "\n",
    "# 웹 페이지 로드\n",
    "driver.get(url)\n",
    "driver.implicitly_wait(10)"
   ]
  },
  {
   "cell_type": "code",
   "execution_count": 8,
   "id": "3e257e95",
   "metadata": {},
   "outputs": [],
   "source": [
    "# 검색 창 선택 및 키워드 입력\n",
    "# 검색 창 요소 가져옴.\n",
    "element = driver.find_element(By.ID, 'SearchGNBText') \n",
    "# 검색 창에 검색 키워드 전달\n",
    "keyword='도쿄'\n",
    "element.send_keys(keyword)"
   ]
  },
  {
   "cell_type": "code",
   "execution_count": 9,
   "id": "a6d5766c",
   "metadata": {},
   "outputs": [],
   "source": [
    "# 검색 버튼 클릭\n",
    "# 검색 버튼의 class 이름은 'search-btn'\n",
    "# 중복 사용되었는지 확인해봤더니 유일하게 사용됨.\n",
    "\n",
    "#elementBtn = driver.find_element(By.CLASS_NAME, 'search-btn')\n",
    "driver.find_element(By.CLASS_NAME, 'search-btn').click()"
   ]
  },
  {
   "cell_type": "markdown",
   "id": "eff32a4d",
   "metadata": {},
   "source": [
    "새롭게 웹 페이지를 열 때 해당 웹 페이지가 다 열릴 때까지 기다려야 하는데, 기다리는 방법에는 \n",
    "- 명시적 대기 : (특정 id나 class 등이) 로드 될 때까지 기다림. \n",
    "- 암시적 대기 : 시간을 정해 놓고 일정 시간 동안 기다림.\n",
    "가 있음. \n",
    "\n",
    "Explicit Waits/Implicit Waits  \n",
    "암시적 대기인 경우 사전에 설정한 시간 전에 모드 로드 완료되면 더 기다리지 않고 다음 과정으로 넘어감."
   ]
  },
  {
   "cell_type": "markdown",
   "id": "c09b41d6",
   "metadata": {},
   "source": [
    "### 해외여행 정보 보기\n",
    "해외여행 탭에 대한 css선택자를 활용"
   ]
  },
  {
   "cell_type": "code",
   "execution_count": 11,
   "id": "5a76b437",
   "metadata": {},
   "outputs": [],
   "source": [
    "\n",
    "css_selector = '#app > div > div:nth-child(1) > div.resultAtc > div.sortTabZone > div > ul > li:nth-child(4)'\n",
    "driver.find_element(By.CSS_SELECTOR, css_selector).click()"
   ]
  },
  {
   "cell_type": "markdown",
   "id": "1b3c848b",
   "metadata": {},
   "source": [
    "### 해외여행 정보 가져오기\n",
    "[해외여행](https://search-travel.interpark.com/search/%EB%8F%84%EC%BF%84)  \n",
    "\n",
    "97껀 있음.  \n",
    "**여행 상품명과 가격을 가져오려고 함.**"
   ]
  },
  {
   "cell_type": "markdown",
   "id": "055a2dca",
   "metadata": {},
   "source": [
    "가져오려고 하는 내용이 ```<ul class=\"boxList\" id=\"boxList\"></ul>```에 있음.  "
   ]
  },
  {
   "cell_type": "markdown",
   "id": "acb53689",
   "metadata": {},
   "source": [
    "하나의 요소를 찾을 때는 ```find_element()```그리고 여러 개의 요소를 찾을 때는 ```find_elements()```를 사용함.\n",
    "\n",
    "상품명부터 가져오겠습니다."
   ]
  },
  {
   "cell_type": "code",
   "execution_count": 18,
   "id": "d970f432",
   "metadata": {},
   "outputs": [],
   "source": [
    "ul_tag = driver.find_element(By.ID, 'boxList')\n",
    "h5_tags = ul_tag.find_elements(By.CLASS_NAME, 'infoTitle')"
   ]
  },
  {
   "cell_type": "code",
   "execution_count": 20,
   "id": "4f6e9df0",
   "metadata": {},
   "outputs": [
    {
     "name": "stdout",
     "output_type": "stream",
     "text": [
      "새삥호텔 큐슈 2박3일\n",
      "[쎈딜][낭만 도쿄타워+1일 자유]오다이바+긴자거리+도쿄시내숙박 3일\n",
      "[도쿄 3일]핫플레이스★시부야+요코하마+스파호텔 2박\n",
      "[스파호텔 2박+디즈니 1DAY 자유]도쿄에서 놀자~♬ 3일\n",
      "[도쿄+1일 자유]오다이바+긴자거리+시내 숙박 2박 3일\n",
      "■2인출발 가능■ 센트럴C.C 동경 골프+자유여행 2박3일\n",
      "[내가 만드는 여행★2DAY FREE]도쿄/요코하마+시내숙박 3박 4일\n",
      "[부산출발] 대한항공 동경/요코하마/신주쿠 실속 2박3일\n",
      "[부산출발] 제주항공 동경/하코네 실속 2박3일\n",
      "[도쿄 3일] 동경+하코네 3일 (디즈니랜드 선택) _ 아시아나항공\n"
     ]
    }
   ],
   "source": [
    "for h5_tag in h5_tags:\n",
    "    print(h5_tag.text)"
   ]
  },
  {
   "cell_type": "markdown",
   "id": "8ed548ae",
   "metadata": {},
   "source": [
    "가격 정보를 가져오겠습니다."
   ]
  },
  {
   "cell_type": "code",
   "execution_count": 27,
   "id": "92149571",
   "metadata": {},
   "outputs": [
    {
     "name": "stdout",
     "output_type": "stream",
     "text": [
      "599,000\n",
      "499,000\n",
      "569,000\n",
      "649,000\n",
      "499,000\n",
      "1,199,000\n",
      "679,000\n",
      "779,000\n",
      "629,000\n",
      "1,199,000\n"
     ]
    }
   ],
   "source": [
    "p_tags = ul_tag.find_elements(By.CLASS_NAME, 'final')\n",
    "for p_tag in p_tags:\n",
    "    strong_tag = p_tag.find_element(By.TAG_NAME, 'strong')\n",
    "    print(strong_tag.text)"
   ]
  },
  {
   "cell_type": "markdown",
   "id": "9aea6451",
   "metadata": {},
   "source": [
    "### 페이지 이동?"
   ]
  },
  {
   "cell_type": "code",
   "execution_count": 28,
   "id": "262a1054",
   "metadata": {},
   "outputs": [],
   "source": [
    "page2_element = driver.find_element(By.CSS_SELECTOR, '#app > div > div:nth-child(1) > div.resultAtc > div.contentsZone > div.panelZone > div.pageNumBox > ul > li:nth-child(2)')\n",
    "page2_element.click()"
   ]
  },
  {
   "cell_type": "markdown",
   "id": "b2a7d1e2",
   "metadata": {},
   "source": [
    "과제 - 구글에서 자기 자신의 이름을 검색한 결과를 모아보세요."
   ]
  }
 ],
 "metadata": {
  "kernelspec": {
   "display_name": "Python 3 (ipykernel)",
   "language": "python",
   "name": "python3"
  },
  "language_info": {
   "codemirror_mode": {
    "name": "ipython",
    "version": 3
   },
   "file_extension": ".py",
   "mimetype": "text/x-python",
   "name": "python",
   "nbconvert_exporter": "python",
   "pygments_lexer": "ipython3",
   "version": "3.9.12"
  }
 },
 "nbformat": 4,
 "nbformat_minor": 5
}
